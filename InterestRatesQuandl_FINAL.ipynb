{
 "cells": [
  {
   "cell_type": "code",
   "execution_count": 6,
   "id": "documented-capitol",
   "metadata": {},
   "outputs": [],
   "source": [
    "import requests\n",
    "import pandas\n",
    "import pandas as pd\n",
    "from pprint import pprint\n",
    "import quandl\n",
    "from pandas.tseries.offsets import MonthEnd\n",
    "from datetime import datetime"
   ]
  },
  {
   "cell_type": "code",
   "execution_count": 7,
   "id": "encouraging-colony",
   "metadata": {
    "tags": []
   },
   "outputs": [
    {
     "output_type": "execute_result",
     "data": {
      "text/plain": [
       "            RBA_Rate\n",
       "Date                \n",
       "2020-03-31      0.43\n",
       "2020-04-30      0.25\n",
       "2020-05-31      0.25\n",
       "2020-06-30      0.25\n",
       "2020-07-31      0.25\n",
       "2020-08-31      0.25\n",
       "2020-09-30      0.25\n",
       "2020-10-31      0.25\n",
       "2020-11-30      0.11\n",
       "2020-12-31      0.10"
      ],
      "text/html": "<div>\n<style scoped>\n    .dataframe tbody tr th:only-of-type {\n        vertical-align: middle;\n    }\n\n    .dataframe tbody tr th {\n        vertical-align: top;\n    }\n\n    .dataframe thead th {\n        text-align: right;\n    }\n</style>\n<table border=\"1\" class=\"dataframe\">\n  <thead>\n    <tr style=\"text-align: right;\">\n      <th></th>\n      <th>RBA_Rate</th>\n    </tr>\n    <tr>\n      <th>Date</th>\n      <th></th>\n    </tr>\n  </thead>\n  <tbody>\n    <tr>\n      <th>2020-03-31</th>\n      <td>0.43</td>\n    </tr>\n    <tr>\n      <th>2020-04-30</th>\n      <td>0.25</td>\n    </tr>\n    <tr>\n      <th>2020-05-31</th>\n      <td>0.25</td>\n    </tr>\n    <tr>\n      <th>2020-06-30</th>\n      <td>0.25</td>\n    </tr>\n    <tr>\n      <th>2020-07-31</th>\n      <td>0.25</td>\n    </tr>\n    <tr>\n      <th>2020-08-31</th>\n      <td>0.25</td>\n    </tr>\n    <tr>\n      <th>2020-09-30</th>\n      <td>0.25</td>\n    </tr>\n    <tr>\n      <th>2020-10-31</th>\n      <td>0.25</td>\n    </tr>\n    <tr>\n      <th>2020-11-30</th>\n      <td>0.11</td>\n    </tr>\n    <tr>\n      <th>2020-12-31</th>\n      <td>0.10</td>\n    </tr>\n  </tbody>\n</table>\n</div>"
     },
     "metadata": {},
     "execution_count": 7
    }
   ],
   "source": [
    "interestrate = quandl.get(\"RBA/F01_1\", start_date=\"2010-01-01\", end_date=\"2020-12-31\")\n",
    "#interestrate.tail()\n",
    "month_by_month_cashrate = interestrate['Cash Rate Target. Units: Per cent; Series ID: FIRMMCRT']\n",
    "month_by_month_cashrate_df = pd.DataFrame(month_by_month_cashrate)\n",
    "month_by_month_cashrate_df.rename(columns = {'Cash Rate Target. Units: Per cent; Series ID: FIRMMCRT':'RBA_Rate'}, inplace = True)\n",
    "\n",
    "money_borrowed = 100000\n",
    " \n",
    "month_by_month_cashrate_df.tail(10)"
   ]
  },
  {
   "cell_type": "code",
   "execution_count": 8,
   "metadata": {},
   "outputs": [
    {
     "output_type": "execute_result",
     "data": {
      "text/plain": [
       "         RBA_Rate\n",
       "count  132.000000\n",
       "mean     2.391856\n",
       "std      1.332457\n",
       "min      0.100000\n",
       "25%      1.500000\n",
       "50%      2.000000\n",
       "75%      3.329375\n",
       "max      4.750000"
      ],
      "text/html": "<div>\n<style scoped>\n    .dataframe tbody tr th:only-of-type {\n        vertical-align: middle;\n    }\n\n    .dataframe tbody tr th {\n        vertical-align: top;\n    }\n\n    .dataframe thead th {\n        text-align: right;\n    }\n</style>\n<table border=\"1\" class=\"dataframe\">\n  <thead>\n    <tr style=\"text-align: right;\">\n      <th></th>\n      <th>RBA_Rate</th>\n    </tr>\n  </thead>\n  <tbody>\n    <tr>\n      <th>count</th>\n      <td>132.000000</td>\n    </tr>\n    <tr>\n      <th>mean</th>\n      <td>2.391856</td>\n    </tr>\n    <tr>\n      <th>std</th>\n      <td>1.332457</td>\n    </tr>\n    <tr>\n      <th>min</th>\n      <td>0.100000</td>\n    </tr>\n    <tr>\n      <th>25%</th>\n      <td>1.500000</td>\n    </tr>\n    <tr>\n      <th>50%</th>\n      <td>2.000000</td>\n    </tr>\n    <tr>\n      <th>75%</th>\n      <td>3.329375</td>\n    </tr>\n    <tr>\n      <th>max</th>\n      <td>4.750000</td>\n    </tr>\n  </tbody>\n</table>\n</div>"
     },
     "metadata": {},
     "execution_count": 8
    }
   ],
   "source": [
    "month_by_month_cashrate_df.describe()\n"
   ]
  },
  {
   "cell_type": "code",
   "execution_count": 35,
   "metadata": {},
   "outputs": [
    {
     "output_type": "stream",
     "name": "stdout",
     "text": [
      "10,000 deposited in 10 years will equal to:\n   Using Historical Mean_Principal_plus_Interest: 12699.119258809837\n   Using Minimum_Principal_plus_Interest: 10100.497462534111\n   Using MAXIMUM_Principal_plus_Interest: 16065.071806666465\n"
     ]
    }
   ],
   "source": [
    "# Program to calculate compound interest\n",
    "\n",
    "# First calculate the compound interest for principal using formula: A = P (1 + r/n)**(nt)\n",
    "# r = annual interest rate\n",
    "# n = number of compounds per period (usually in months)\n",
    "# t = time\n",
    "\n",
    "def compundedinterest (interestrate_input):\n",
    "\tprincipal = 10000\n",
    "\tannualrate_pct = interestrate_input\n",
    "\tnumberoftimescompounded = 12\n",
    "\tyears = 10\n",
    "\tannualrate = (float(annualrate_pct))/100\n",
    "\t#print (\"The principal entered is: \", principal)\n",
    "\t#print (\"The annual rate in decimal form is: \", annualrate)\n",
    "\t#print (\"The number of times it will be compounded per year is: \", numberoftimescompounded)\n",
    "\t#print (\"The number of years it will be compounded: \", years)\n",
    "\t# calculate compound interest plus the principal\n",
    "\tpreliminarynumber = (1 + (annualrate/numberoftimescompounded))\n",
    "\traisedtopower = (numberoftimescompounded * years)\n",
    "\ttotalamount = principal * (preliminarynumber**raisedtopower)\n",
    "\t#totalamount = round((totalamount,2))\n",
    "\treturn totalamount\n",
    "\n",
    "print(\"10,000 deposited in 10 years will equal to:\")\n",
    "\n",
    "Mean_Principal_plus_Interest = compundedinterest (month_by_month_cashrate_df.mean())\n",
    "print(f\"   Using Historical Mean_Principal_plus_Interest: {Mean_Principal_plus_Interest}\")\n",
    "\n",
    "Min_Principal_plus_Interest = compundedinterest (month_by_month_cashrate_df.min())\n",
    "print(f\"   Using MINIMUM_Principal_plus_Interest: {Min_Principal_plus_Interest}\")\n",
    "\n",
    "Max_Principal_plus_Interest = compundedinterest (month_by_month_cashrate_df.max())\n",
    "print(f\"   Using MAXIMUM_Principal_plus_Interest: {Max_Principal_plus_Interest}\")\n",
    "\n"
   ]
  },
  {
   "cell_type": "code",
   "execution_count": null,
   "metadata": {},
   "outputs": [],
   "source": []
  }
 ],
 "metadata": {
  "kernelspec": {
   "name": "python379jvsc74a57bd0853c7982682c09bc1de6c239517ef51e61ed3dd56585ce9e8f298562ff08c070",
   "display_name": "Python 3.7.9 64-bit ('pyvizenv': conda)"
  },
  "language_info": {
   "codemirror_mode": {
    "name": "ipython",
    "version": 3
   },
   "file_extension": ".py",
   "mimetype": "text/x-python",
   "name": "python",
   "nbconvert_exporter": "python",
   "pygments_lexer": "ipython3",
   "version": "3.7.9-final"
  }
 },
 "nbformat": 4,
 "nbformat_minor": 5
}