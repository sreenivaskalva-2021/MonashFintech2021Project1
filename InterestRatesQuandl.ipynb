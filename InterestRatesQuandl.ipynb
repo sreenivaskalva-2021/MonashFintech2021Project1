{
 "cells": [
  {
   "cell_type": "code",
   "execution_count": 1,
   "id": "documented-capitol",
   "metadata": {},
   "outputs": [],
   "source": [
    "import requests\n",
    "import pandas\n",
    "import pandas as pd\n",
    "from pprint import pprint\n",
    "import quandl\n"
   ]
  },
  {
   "cell_type": "code",
   "execution_count": 29,
   "id": "encouraging-colony",
   "metadata": {
    "tags": []
   },
   "outputs": [
    {
     "output_type": "execute_result",
     "data": {
      "text/plain": [
       "            RBA_Rate  InterestAmount\n",
       "Date                                \n",
       "2010-01-31    3.7500      312.500000\n",
       "2010-02-28    3.7500      312.500000\n",
       "2010-03-31    3.9775      331.458333\n",
       "2010-04-30    4.2225      351.875000\n",
       "2010-05-31    4.4750      372.916667"
      ],
      "text/html": "<div>\n<style scoped>\n    .dataframe tbody tr th:only-of-type {\n        vertical-align: middle;\n    }\n\n    .dataframe tbody tr th {\n        vertical-align: top;\n    }\n\n    .dataframe thead th {\n        text-align: right;\n    }\n</style>\n<table border=\"1\" class=\"dataframe\">\n  <thead>\n    <tr style=\"text-align: right;\">\n      <th></th>\n      <th>RBA_Rate</th>\n      <th>InterestAmount</th>\n    </tr>\n    <tr>\n      <th>Date</th>\n      <th></th>\n      <th></th>\n    </tr>\n  </thead>\n  <tbody>\n    <tr>\n      <th>2010-01-31</th>\n      <td>3.7500</td>\n      <td>312.500000</td>\n    </tr>\n    <tr>\n      <th>2010-02-28</th>\n      <td>3.7500</td>\n      <td>312.500000</td>\n    </tr>\n    <tr>\n      <th>2010-03-31</th>\n      <td>3.9775</td>\n      <td>331.458333</td>\n    </tr>\n    <tr>\n      <th>2010-04-30</th>\n      <td>4.2225</td>\n      <td>351.875000</td>\n    </tr>\n    <tr>\n      <th>2010-05-31</th>\n      <td>4.4750</td>\n      <td>372.916667</td>\n    </tr>\n  </tbody>\n</table>\n</div>"
     },
     "metadata": {},
     "execution_count": 29
    }
   ],
   "source": [
    "interestrate = quandl.get(\"RBA/F01_1\", start_date=\"2010-01-01\", end_date=\"2020-12-31\")\n",
    "#interestrate.tail()\n",
    "month_by_month_cashrate = interestrate['Cash Rate Target. Units: Per cent; Series ID: FIRMMCRT']\n",
    "month_by_month_cashrate_df = pd.DataFrame(month_by_month_cashrate)\n",
    "month_by_month_cashrate_df.rename(columns = {'Cash Rate Target. Units: Per cent; Series ID: FIRMMCRT':'RBA_Rate'}, inplace = True)\n",
    "month_by_month_cashrate_df['InterestAmount']=0.0\n",
    "\n",
    "money_borrowed = 100000\n",
    "\n",
    "for i, row in month_by_month_cashrate_df.iterrows():\n",
    "    interest_rate_per_month = month_by_month_cashrate_df['RBA_Rate']\n",
    "    interest_amount = (money_borrowed * interest_rate_per_month) / 1200\n",
    "    month_by_month_cashrate_df.at[i,'InterestAmount'] = interest_amount[i]\n",
    " \n",
    "month_by_month_cashrate_df.head(5)\n"
   ]
  }
 ],
 "metadata": {
  "kernelspec": {
   "display_name": "Python 3",
   "language": "python",
   "name": "python3"
  },
  "language_info": {
   "codemirror_mode": {
    "name": "ipython",
    "version": 3
   },
   "file_extension": ".py",
   "mimetype": "text/x-python",
   "name": "python",
   "nbconvert_exporter": "python",
   "pygments_lexer": "ipython3",
   "version": "3.7.9-final"
  }
 },
 "nbformat": 4,
 "nbformat_minor": 5
}