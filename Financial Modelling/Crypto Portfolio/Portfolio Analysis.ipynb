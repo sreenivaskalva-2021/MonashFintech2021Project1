{
 "cells": [
  {
   "cell_type": "markdown",
   "metadata": {},
   "source": [
    "# Portfolio Analysis  "
   ]
  },
  {
   "cell_type": "markdown",
   "metadata": {},
   "source": [
    "## Description"
   ]
  },
  {
   "cell_type": "code",
   "execution_count": 1,
   "metadata": {},
   "outputs": [],
   "source": [
    "#This portfolio is to run a scenario, where the investor is focusing not only in stock investment, but also on crypto investment. \n",
    "#The analysis will run different scenarios, including: portfolio of crypto only, portfolio of crypto/ASX stocks mix\n",
    "#The result will be used to compare its performance on traditional equity indices such as: ASX20, ASX200, ASX300; or index-tracking ETFs.\n",
    "\n"
   ]
  },
  {
   "cell_type": "markdown",
   "metadata": {},
   "source": [
    "## Initial Imports"
   ]
  },
  {
   "cell_type": "code",
   "execution_count": 2,
   "metadata": {},
   "outputs": [],
   "source": [
    "import datetime as dt\n",
    "import pandas as pd\n",
    "import numpy as np\n",
    "from pathlib import Path\n",
    "import seaborn as sns\n",
    "import os\n",
    "import matplotlib.pyplot as plt\n",
    "import matplotlib.mlab as mlab\n",
    "from MCForecastTools import MCSimulation\n",
    "\n",
    "\n",
    "\n",
    "%matplotlib inline"
   ]
  },
  {
   "cell_type": "markdown",
   "metadata": {},
   "source": [
    "## Getting the Data for Crypto"
   ]
  },
  {
   "cell_type": "code",
   "execution_count": 3,
   "metadata": {},
   "outputs": [
    {
     "data": {
      "text/html": [
       "<div>\n",
       "<style scoped>\n",
       "    .dataframe tbody tr th:only-of-type {\n",
       "        vertical-align: middle;\n",
       "    }\n",
       "\n",
       "    .dataframe tbody tr th {\n",
       "        vertical-align: top;\n",
       "    }\n",
       "\n",
       "    .dataframe thead th {\n",
       "        text-align: right;\n",
       "    }\n",
       "</style>\n",
       "<table border=\"1\" class=\"dataframe\">\n",
       "  <thead>\n",
       "    <tr style=\"text-align: right;\">\n",
       "      <th></th>\n",
       "      <th>BTC/USD</th>\n",
       "    </tr>\n",
       "    <tr>\n",
       "      <th>Date</th>\n",
       "      <th></th>\n",
       "    </tr>\n",
       "  </thead>\n",
       "  <tbody>\n",
       "    <tr>\n",
       "      <th>2016-01-01</th>\n",
       "      <td>434.334015</td>\n",
       "    </tr>\n",
       "    <tr>\n",
       "      <th>2016-01-02</th>\n",
       "      <td>433.437988</td>\n",
       "    </tr>\n",
       "    <tr>\n",
       "      <th>2016-01-03</th>\n",
       "      <td>430.010986</td>\n",
       "    </tr>\n",
       "    <tr>\n",
       "      <th>2016-01-04</th>\n",
       "      <td>433.091003</td>\n",
       "    </tr>\n",
       "    <tr>\n",
       "      <th>2016-01-05</th>\n",
       "      <td>431.959991</td>\n",
       "    </tr>\n",
       "    <tr>\n",
       "      <th>...</th>\n",
       "      <td>...</td>\n",
       "    </tr>\n",
       "    <tr>\n",
       "      <th>2021-04-04</th>\n",
       "      <td>58758.554688</td>\n",
       "    </tr>\n",
       "    <tr>\n",
       "      <th>2021-04-05</th>\n",
       "      <td>59057.878906</td>\n",
       "    </tr>\n",
       "    <tr>\n",
       "      <th>2021-04-06</th>\n",
       "      <td>58192.359375</td>\n",
       "    </tr>\n",
       "    <tr>\n",
       "      <th>2021-04-07</th>\n",
       "      <td>NaN</td>\n",
       "    </tr>\n",
       "    <tr>\n",
       "      <th>2021-04-08</th>\n",
       "      <td>56207.160156</td>\n",
       "    </tr>\n",
       "  </tbody>\n",
       "</table>\n",
       "<p>1925 rows × 1 columns</p>\n",
       "</div>"
      ],
      "text/plain": [
       "                 BTC/USD\n",
       "Date                    \n",
       "2016-01-01    434.334015\n",
       "2016-01-02    433.437988\n",
       "2016-01-03    430.010986\n",
       "2016-01-04    433.091003\n",
       "2016-01-05    431.959991\n",
       "...                  ...\n",
       "2021-04-04  58758.554688\n",
       "2021-04-05  59057.878906\n",
       "2021-04-06  58192.359375\n",
       "2021-04-07           NaN\n",
       "2021-04-08  56207.160156\n",
       "\n",
       "[1925 rows x 1 columns]"
      ]
     },
     "execution_count": 3,
     "metadata": {},
     "output_type": "execute_result"
    }
   ],
   "source": [
    "btc_returns_csv = Path(r\"E:\\OneDrive\\Documents\\GitHub\\MonashFintech2021Project1\\Financial Modelling\\Crypto Portfolio\\Resources\\BTC-USD.csv\")\n",
    "BTC_daily_returns = pd.read_csv(btc_returns_csv, index_col=\"Date\", parse_dates=True, infer_datetime_format=True)\n",
    "BTC_daily_returns.drop(columns=['Open', 'High', 'Low', 'Close', 'Volume'], axis=1,inplace=True)\n",
    "BTC_daily_returns = BTC_daily_returns.rename(columns={\"Adj Close\":\"BTC/USD\"})\n",
    "BTC_daily_returns = BTC_daily_returns[\"2016-01-01\":]\n",
    "BTC_daily_returns"
   ]
  },
  {
   "cell_type": "code",
   "execution_count": 4,
   "metadata": {},
   "outputs": [
    {
     "data": {
      "text/html": [
       "<div>\n",
       "<style scoped>\n",
       "    .dataframe tbody tr th:only-of-type {\n",
       "        vertical-align: middle;\n",
       "    }\n",
       "\n",
       "    .dataframe tbody tr th {\n",
       "        vertical-align: top;\n",
       "    }\n",
       "\n",
       "    .dataframe thead th {\n",
       "        text-align: right;\n",
       "    }\n",
       "</style>\n",
       "<table border=\"1\" class=\"dataframe\">\n",
       "  <thead>\n",
       "    <tr style=\"text-align: right;\">\n",
       "      <th></th>\n",
       "      <th>ETH/USD</th>\n",
       "    </tr>\n",
       "    <tr>\n",
       "      <th>Date</th>\n",
       "      <th></th>\n",
       "    </tr>\n",
       "  </thead>\n",
       "  <tbody>\n",
       "    <tr>\n",
       "      <th>2016-01-01</th>\n",
       "      <td>0.948024</td>\n",
       "    </tr>\n",
       "    <tr>\n",
       "      <th>2016-01-02</th>\n",
       "      <td>0.937124</td>\n",
       "    </tr>\n",
       "    <tr>\n",
       "      <th>2016-01-03</th>\n",
       "      <td>0.971905</td>\n",
       "    </tr>\n",
       "    <tr>\n",
       "      <th>2016-01-04</th>\n",
       "      <td>0.954480</td>\n",
       "    </tr>\n",
       "    <tr>\n",
       "      <th>2016-01-05</th>\n",
       "      <td>0.950176</td>\n",
       "    </tr>\n",
       "    <tr>\n",
       "      <th>...</th>\n",
       "      <td>...</td>\n",
       "    </tr>\n",
       "    <tr>\n",
       "      <th>2021-04-04</th>\n",
       "      <td>2093.122803</td>\n",
       "    </tr>\n",
       "    <tr>\n",
       "      <th>2021-04-05</th>\n",
       "      <td>2107.887207</td>\n",
       "    </tr>\n",
       "    <tr>\n",
       "      <th>2021-04-06</th>\n",
       "      <td>2118.378906</td>\n",
       "    </tr>\n",
       "    <tr>\n",
       "      <th>2021-04-07</th>\n",
       "      <td>NaN</td>\n",
       "    </tr>\n",
       "    <tr>\n",
       "      <th>2021-04-08</th>\n",
       "      <td>1975.336426</td>\n",
       "    </tr>\n",
       "  </tbody>\n",
       "</table>\n",
       "<p>1925 rows × 1 columns</p>\n",
       "</div>"
      ],
      "text/plain": [
       "                ETH/USD\n",
       "Date                   \n",
       "2016-01-01     0.948024\n",
       "2016-01-02     0.937124\n",
       "2016-01-03     0.971905\n",
       "2016-01-04     0.954480\n",
       "2016-01-05     0.950176\n",
       "...                 ...\n",
       "2021-04-04  2093.122803\n",
       "2021-04-05  2107.887207\n",
       "2021-04-06  2118.378906\n",
       "2021-04-07          NaN\n",
       "2021-04-08  1975.336426\n",
       "\n",
       "[1925 rows x 1 columns]"
      ]
     },
     "execution_count": 4,
     "metadata": {},
     "output_type": "execute_result"
    }
   ],
   "source": [
    "eth_returns_csv = Path(r\"E:\\OneDrive\\Documents\\GitHub\\MonashFintech2021Project1\\Financial Modelling\\Crypto Portfolio\\Resources\\ETH-USD.csv\")\n",
    "ETH_daily_returns = pd.read_csv(eth_returns_csv, index_col=\"Date\", parse_dates=True, infer_datetime_format=True)\n",
    "ETH_daily_returns.drop(columns=['Open', 'High', 'Low', 'Close', 'Volume'], axis=1,inplace=True)\n",
    "ETH_daily_returns = ETH_daily_returns.rename(columns={\"Adj Close\":\"ETH/USD\"})\n",
    "ETH_daily_returns = ETH_daily_returns[\"2016-01-01\":]\n",
    "ETH_daily_returns"
   ]
  },
  {
   "cell_type": "markdown",
   "metadata": {},
   "source": [
    "### Extras: Exchange Rate: USD to AUD"
   ]
  },
  {
   "cell_type": "code",
   "execution_count": 5,
   "metadata": {},
   "outputs": [
    {
     "data": {
      "text/html": [
       "<div>\n",
       "<style scoped>\n",
       "    .dataframe tbody tr th:only-of-type {\n",
       "        vertical-align: middle;\n",
       "    }\n",
       "\n",
       "    .dataframe tbody tr th {\n",
       "        vertical-align: top;\n",
       "    }\n",
       "\n",
       "    .dataframe thead th {\n",
       "        text-align: right;\n",
       "    }\n",
       "</style>\n",
       "<table border=\"1\" class=\"dataframe\">\n",
       "  <thead>\n",
       "    <tr style=\"text-align: right;\">\n",
       "      <th></th>\n",
       "      <th>AUD-USD</th>\n",
       "    </tr>\n",
       "    <tr>\n",
       "      <th>Date</th>\n",
       "      <th></th>\n",
       "    </tr>\n",
       "  </thead>\n",
       "  <tbody>\n",
       "    <tr>\n",
       "      <th>2016-01-01</th>\n",
       "      <td>0.727167</td>\n",
       "    </tr>\n",
       "    <tr>\n",
       "      <th>2016-01-04</th>\n",
       "      <td>0.728704</td>\n",
       "    </tr>\n",
       "    <tr>\n",
       "      <th>2016-01-05</th>\n",
       "      <td>0.718597</td>\n",
       "    </tr>\n",
       "    <tr>\n",
       "      <th>2016-01-06</th>\n",
       "      <td>0.716281</td>\n",
       "    </tr>\n",
       "    <tr>\n",
       "      <th>2016-01-07</th>\n",
       "      <td>0.708015</td>\n",
       "    </tr>\n",
       "    <tr>\n",
       "      <th>...</th>\n",
       "      <td>...</td>\n",
       "    </tr>\n",
       "    <tr>\n",
       "      <th>2021-04-02</th>\n",
       "      <td>0.761900</td>\n",
       "    </tr>\n",
       "    <tr>\n",
       "      <th>2021-04-05</th>\n",
       "      <td>0.762100</td>\n",
       "    </tr>\n",
       "    <tr>\n",
       "      <th>2021-04-06</th>\n",
       "      <td>0.765873</td>\n",
       "    </tr>\n",
       "    <tr>\n",
       "      <th>2021-04-07</th>\n",
       "      <td>0.766695</td>\n",
       "    </tr>\n",
       "    <tr>\n",
       "      <th>2021-04-08</th>\n",
       "      <td>0.761580</td>\n",
       "    </tr>\n",
       "  </tbody>\n",
       "</table>\n",
       "<p>1375 rows × 1 columns</p>\n",
       "</div>"
      ],
      "text/plain": [
       "             AUD-USD\n",
       "Date                \n",
       "2016-01-01  0.727167\n",
       "2016-01-04  0.728704\n",
       "2016-01-05  0.718597\n",
       "2016-01-06  0.716281\n",
       "2016-01-07  0.708015\n",
       "...              ...\n",
       "2021-04-02  0.761900\n",
       "2021-04-05  0.762100\n",
       "2021-04-06  0.765873\n",
       "2021-04-07  0.766695\n",
       "2021-04-08  0.761580\n",
       "\n",
       "[1375 rows x 1 columns]"
      ]
     },
     "execution_count": 5,
     "metadata": {},
     "output_type": "execute_result"
    }
   ],
   "source": [
    "exchange_data_csv = Path(r\"E:\\OneDrive\\Documents\\GitHub\\MonashFintech2021Project1\\Financial Modelling\\Crypto Portfolio\\Resources\\AUDUSD=X.csv\")\n",
    "daily_fx_rate = pd.read_csv(exchange_data_csv, index_col=\"Date\", parse_dates=True, infer_datetime_format=True)\n",
    "daily_fx_rate.drop(columns=['Open', 'High', 'Low', 'Close', 'Volume'], axis=1,inplace=True)\n",
    "daily_fx_rate = daily_fx_rate.rename(columns={\"Adj Close\":\"AUD-USD\"})\n",
    "daily_fx_rate = daily_fx_rate[\"2016-01-01\":]\n",
    "daily_fx_rate"
   ]
  },
  {
   "cell_type": "markdown",
   "metadata": {},
   "source": [
    "## Quantitative Analysis "
   ]
  },
  {
   "cell_type": "markdown",
   "metadata": {},
   "source": [
    "### Combine Data"
   ]
  },
  {
   "cell_type": "code",
   "execution_count": 6,
   "metadata": {},
   "outputs": [
    {
     "data": {
      "text/html": [
       "<div>\n",
       "<style scoped>\n",
       "    .dataframe tbody tr th:only-of-type {\n",
       "        vertical-align: middle;\n",
       "    }\n",
       "\n",
       "    .dataframe tbody tr th {\n",
       "        vertical-align: top;\n",
       "    }\n",
       "\n",
       "    .dataframe thead th {\n",
       "        text-align: right;\n",
       "    }\n",
       "</style>\n",
       "<table border=\"1\" class=\"dataframe\">\n",
       "  <thead>\n",
       "    <tr style=\"text-align: right;\">\n",
       "      <th></th>\n",
       "      <th>BTC/USD</th>\n",
       "      <th>ETH/USD</th>\n",
       "    </tr>\n",
       "    <tr>\n",
       "      <th>Date</th>\n",
       "      <th></th>\n",
       "      <th></th>\n",
       "    </tr>\n",
       "  </thead>\n",
       "  <tbody>\n",
       "    <tr>\n",
       "      <th>2016-01-01</th>\n",
       "      <td>434.334015</td>\n",
       "      <td>0.948024</td>\n",
       "    </tr>\n",
       "    <tr>\n",
       "      <th>2016-01-02</th>\n",
       "      <td>433.437988</td>\n",
       "      <td>0.937124</td>\n",
       "    </tr>\n",
       "    <tr>\n",
       "      <th>2016-01-03</th>\n",
       "      <td>430.010986</td>\n",
       "      <td>0.971905</td>\n",
       "    </tr>\n",
       "    <tr>\n",
       "      <th>2016-01-04</th>\n",
       "      <td>433.091003</td>\n",
       "      <td>0.954480</td>\n",
       "    </tr>\n",
       "    <tr>\n",
       "      <th>2016-01-05</th>\n",
       "      <td>431.959991</td>\n",
       "      <td>0.950176</td>\n",
       "    </tr>\n",
       "    <tr>\n",
       "      <th>...</th>\n",
       "      <td>...</td>\n",
       "      <td>...</td>\n",
       "    </tr>\n",
       "    <tr>\n",
       "      <th>2021-04-04</th>\n",
       "      <td>58758.554688</td>\n",
       "      <td>2093.122803</td>\n",
       "    </tr>\n",
       "    <tr>\n",
       "      <th>2021-04-05</th>\n",
       "      <td>59057.878906</td>\n",
       "      <td>2107.887207</td>\n",
       "    </tr>\n",
       "    <tr>\n",
       "      <th>2021-04-06</th>\n",
       "      <td>58192.359375</td>\n",
       "      <td>2118.378906</td>\n",
       "    </tr>\n",
       "    <tr>\n",
       "      <th>2021-04-07</th>\n",
       "      <td>NaN</td>\n",
       "      <td>NaN</td>\n",
       "    </tr>\n",
       "    <tr>\n",
       "      <th>2021-04-08</th>\n",
       "      <td>56207.160156</td>\n",
       "      <td>1975.336426</td>\n",
       "    </tr>\n",
       "  </tbody>\n",
       "</table>\n",
       "<p>1925 rows × 2 columns</p>\n",
       "</div>"
      ],
      "text/plain": [
       "                 BTC/USD      ETH/USD\n",
       "Date                                 \n",
       "2016-01-01    434.334015     0.948024\n",
       "2016-01-02    433.437988     0.937124\n",
       "2016-01-03    430.010986     0.971905\n",
       "2016-01-04    433.091003     0.954480\n",
       "2016-01-05    431.959991     0.950176\n",
       "...                  ...          ...\n",
       "2021-04-04  58758.554688  2093.122803\n",
       "2021-04-05  59057.878906  2107.887207\n",
       "2021-04-06  58192.359375  2118.378906\n",
       "2021-04-07           NaN          NaN\n",
       "2021-04-08  56207.160156  1975.336426\n",
       "\n",
       "[1925 rows x 2 columns]"
      ]
     },
     "execution_count": 6,
     "metadata": {},
     "output_type": "execute_result"
    }
   ],
   "source": [
    "crypto_df = pd.concat([\n",
    "    BTC_daily_returns ,\n",
    "    ETH_daily_returns ,\n",
    "     \n",
    "],axis=\"columns\",join=\"inner\")\n",
    "crypto_df\n"
   ]
  },
  {
   "cell_type": "markdown",
   "metadata": {},
   "source": [
    "### Calculate Returns, Mean, Standard Deviation "
   ]
  },
  {
   "cell_type": "code",
   "execution_count": 7,
   "metadata": {},
   "outputs": [],
   "source": [
    "# Define function to calculate returns, volatility\n",
    "def portfolio_annualized_performance(weights, crypto_means, crypto_cov_matrix):\n",
    "    crypto_returns = np.sum(crypto_means*weights ) *252\n",
    "    crypto_std = np.sqrt(np.dot(weights.T, np.dot(crypto_cov_matrix, weights))) * np.sqrt(252)\n",
    "    return crypto_std, crypto_returns"
   ]
  },
  {
   "cell_type": "code",
   "execution_count": 8,
   "metadata": {},
   "outputs": [
    {
     "data": {
      "text/html": [
       "<div>\n",
       "<style scoped>\n",
       "    .dataframe tbody tr th:only-of-type {\n",
       "        vertical-align: middle;\n",
       "    }\n",
       "\n",
       "    .dataframe tbody tr th {\n",
       "        vertical-align: top;\n",
       "    }\n",
       "\n",
       "    .dataframe thead th {\n",
       "        text-align: right;\n",
       "    }\n",
       "</style>\n",
       "<table border=\"1\" class=\"dataframe\">\n",
       "  <thead>\n",
       "    <tr style=\"text-align: right;\">\n",
       "      <th></th>\n",
       "      <th>BTC/USD</th>\n",
       "      <th>ETH/USD</th>\n",
       "    </tr>\n",
       "    <tr>\n",
       "      <th>Date</th>\n",
       "      <th></th>\n",
       "      <th></th>\n",
       "    </tr>\n",
       "  </thead>\n",
       "  <tbody>\n",
       "    <tr>\n",
       "      <th>2016-01-01</th>\n",
       "      <td>NaN</td>\n",
       "      <td>NaN</td>\n",
       "    </tr>\n",
       "    <tr>\n",
       "      <th>2016-01-02</th>\n",
       "      <td>-0.002063</td>\n",
       "      <td>-0.011498</td>\n",
       "    </tr>\n",
       "    <tr>\n",
       "      <th>2016-01-03</th>\n",
       "      <td>-0.007907</td>\n",
       "      <td>0.037115</td>\n",
       "    </tr>\n",
       "    <tr>\n",
       "      <th>2016-01-04</th>\n",
       "      <td>0.007163</td>\n",
       "      <td>-0.017929</td>\n",
       "    </tr>\n",
       "    <tr>\n",
       "      <th>2016-01-05</th>\n",
       "      <td>-0.002611</td>\n",
       "      <td>-0.004509</td>\n",
       "    </tr>\n",
       "    <tr>\n",
       "      <th>...</th>\n",
       "      <td>...</td>\n",
       "      <td>...</td>\n",
       "    </tr>\n",
       "    <tr>\n",
       "      <th>2021-04-04</th>\n",
       "      <td>0.020045</td>\n",
       "      <td>0.031897</td>\n",
       "    </tr>\n",
       "    <tr>\n",
       "      <th>2021-04-05</th>\n",
       "      <td>0.005094</td>\n",
       "      <td>0.007054</td>\n",
       "    </tr>\n",
       "    <tr>\n",
       "      <th>2021-04-06</th>\n",
       "      <td>-0.014655</td>\n",
       "      <td>0.004977</td>\n",
       "    </tr>\n",
       "    <tr>\n",
       "      <th>2021-04-07</th>\n",
       "      <td>0.000000</td>\n",
       "      <td>0.000000</td>\n",
       "    </tr>\n",
       "    <tr>\n",
       "      <th>2021-04-08</th>\n",
       "      <td>-0.034114</td>\n",
       "      <td>-0.067525</td>\n",
       "    </tr>\n",
       "  </tbody>\n",
       "</table>\n",
       "<p>1925 rows × 2 columns</p>\n",
       "</div>"
      ],
      "text/plain": [
       "             BTC/USD   ETH/USD\n",
       "Date                          \n",
       "2016-01-01       NaN       NaN\n",
       "2016-01-02 -0.002063 -0.011498\n",
       "2016-01-03 -0.007907  0.037115\n",
       "2016-01-04  0.007163 -0.017929\n",
       "2016-01-05 -0.002611 -0.004509\n",
       "...              ...       ...\n",
       "2021-04-04  0.020045  0.031897\n",
       "2021-04-05  0.005094  0.007054\n",
       "2021-04-06 -0.014655  0.004977\n",
       "2021-04-07  0.000000  0.000000\n",
       "2021-04-08 -0.034114 -0.067525\n",
       "\n",
       "[1925 rows x 2 columns]"
      ]
     },
     "execution_count": 8,
     "metadata": {},
     "output_type": "execute_result"
    }
   ],
   "source": [
    "#Calculate daily returns\n",
    "crypto_returns = crypto_df.pct_change()\n",
    "crypto_returns"
   ]
  },
  {
   "cell_type": "code",
   "execution_count": 9,
   "metadata": {},
   "outputs": [
    {
     "data": {
      "text/plain": [
       "Text(0, 0.5, 'daily returns')"
      ]
     },
     "execution_count": 9,
     "metadata": {},
     "output_type": "execute_result"
    },
    {
     "data": {
      "image/png": "[encoded data removed]",
      "text/plain": [
       "<Figure size 2160x720 with 1 Axes>"
      ]
     },
     "metadata": {
      "needs_background": "light"
     },
     "output_type": "display_data"
    }
   ],
   "source": [
    "plt.figure(figsize=(30, 10))\n",
    "for i in crypto_returns.columns.values:\n",
    "    plt.plot(crypto_returns.index, crypto_returns[i], lw=2, alpha=0.5,label=i)\n",
    "plt.legend(loc='lower center', fontsize=14)\n",
    "plt.ylabel('daily returns')"
   ]
  },
  {
   "cell_type": "code",
   "execution_count": 10,
   "metadata": {},
   "outputs": [
    {
     "data": {
      "text/plain": [
       "BTC/USD    8149.264033\n",
       "ETH/USD     308.601623\n",
       "dtype: float64"
      ]
     },
     "execution_count": 10,
     "metadata": {},
     "output_type": "execute_result"
    }
   ],
   "source": [
    "#Calculate means\n",
    "crypto_means = crypto_df.mean()\n",
    "crypto_means"
   ]
  },
  {
   "cell_type": "code",
   "execution_count": 11,
   "metadata": {},
   "outputs": [
    {
     "data": {
      "text/plain": [
       "BTC/USD    10167.469318\n",
       "ETH/USD      376.449510\n",
       "dtype: float64"
      ]
     },
     "execution_count": 11,
     "metadata": {},
     "output_type": "execute_result"
    }
   ],
   "source": [
    "#Calculate Standard Deviation\n",
    "crypto_std = crypto_df.std()\n",
    "crypto_std"
   ]
  },
  {
   "cell_type": "code",
   "execution_count": 12,
   "metadata": {
    "scrolled": true
   },
   "outputs": [
    {
     "data": {
      "text/html": [
       "<div>\n",
       "<style scoped>\n",
       "    .dataframe tbody tr th:only-of-type {\n",
       "        vertical-align: middle;\n",
       "    }\n",
       "\n",
       "    .dataframe tbody tr th {\n",
       "        vertical-align: top;\n",
       "    }\n",
       "\n",
       "    .dataframe thead th {\n",
       "        text-align: right;\n",
       "    }\n",
       "</style>\n",
       "<table border=\"1\" class=\"dataframe\">\n",
       "  <thead>\n",
       "    <tr style=\"text-align: right;\">\n",
       "      <th></th>\n",
       "      <th>BTC/USD</th>\n",
       "      <th>ETH/USD</th>\n",
       "    </tr>\n",
       "  </thead>\n",
       "  <tbody>\n",
       "    <tr>\n",
       "      <th>BTC/USD</th>\n",
       "      <td>0.001566</td>\n",
       "      <td>0.001266</td>\n",
       "    </tr>\n",
       "    <tr>\n",
       "      <th>ETH/USD</th>\n",
       "      <td>0.001266</td>\n",
       "      <td>0.003522</td>\n",
       "    </tr>\n",
       "  </tbody>\n",
       "</table>\n",
       "</div>"
      ],
      "text/plain": [
       "          BTC/USD   ETH/USD\n",
       "BTC/USD  0.001566  0.001266\n",
       "ETH/USD  0.001266  0.003522"
      ]
     },
     "execution_count": 12,
     "metadata": {},
     "output_type": "execute_result"
    }
   ],
   "source": [
    "#Calculate Covariance Matrix\n",
    "crypto_cov_matrix = crypto_returns.cov()\n",
    "crypto_cov_matrix"
   ]
  },
  {
   "cell_type": "code",
   "execution_count": 13,
   "metadata": {},
   "outputs": [
    {
     "data": {
      "image/png": "[encoded data removed]",
      "text/plain": [
       "<Figure size 432x288 with 2 Axes>"
      ]
     },
     "metadata": {
      "needs_background": "light"
     },
     "output_type": "display_data"
    }
   ],
   "source": [
    "# Plot the correlation heatmap\n",
    "crypto_corr = crypto_returns.corr()\n",
    "ax = sns.heatmap(\n",
    "    crypto_corr, \n",
    "    vmin=-1, vmax=1, center=0,\n",
    "    cmap=sns.diverging_palette(20, 220, n=200),\n",
    "    square=True\n",
    ")\n",
    "ax.set_xticklabels(\n",
    "    ax.get_xticklabels(),\n",
    "    rotation=45,\n",
    "    horizontalalignment='right'\n",
    ");"
   ]
  },
  {
   "cell_type": "code",
   "execution_count": 17,
   "metadata": {},
   "outputs": [],
   "source": [
    "#   So what is happening to this formula? \n",
    "#   Before we dive in, we need to understand the concept of max Sharpe Ratio: \n",
    "##  The ratio is commonly used as a means of calculating the performance of an investment after \n",
    "##  adjusting for its risk that allows investments of different risk profiles to be compared against each other.\n",
    "##  Max Sharpe Ratio means that investor will choose to go with higher risk, as in this case is Bitcoin, to achieve higher return\n",
    "##  The volatility gap between Bitcoin and Ethereum is significantly difference with Bitcoin volatility level is over the cloud, \n",
    "##  therefore we can see why this model choose to go all-in in Bitcoin instead of allocating a *significant portion* to Ethereum\n",
    "##  \n"
   ]
  },
  {
   "cell_type": "markdown",
   "metadata": {},
   "source": [
    "# Scenario Analysis"
   ]
  },
  {
   "cell_type": "markdown",
   "metadata": {},
   "source": [
    "## 1st Scenario: Adding Stocks into the Portfolio to determine the mixed portfolio allocation"
   ]
  },
  {
   "cell_type": "code",
   "execution_count": 18,
   "metadata": {},
   "outputs": [],
   "source": [
    "# in this scenario, we will pick the WAAAX shares, referring to a group of five high-growth ASX technology shares\n",
    "# they include: WiseTech Global Ltd (ASX: WTC), Afterpay Ltd (ASX: APT), Appen Ltd (ASX: APX), Altium Limited (ASX: ALU), and Xero Limited (ASX: XRO).\n",
    "# we will run this scenario to examine the affect of a mix crypto/stocks portfolio"
   ]
  },
  {
   "cell_type": "markdown",
   "metadata": {},
   "source": [
    "### Importing Data"
   ]
  },
  {
   "cell_type": "code",
   "execution_count": 19,
   "metadata": {},
   "outputs": [],
   "source": [
    "alu_returns_csv = Path(r\"E:\\OneDrive\\Documents\\GitHub\\MonashFintech2021Project1\\Financial Modelling\\Crypto Portfolio\\Resources\\ALU.AX.csv\")\n",
    "alu_daily_returns = pd.read_csv(alu_returns_csv, index_col=\"Date\", parse_dates=True, infer_datetime_format=True)\n",
    "alu_daily_returns.drop(columns=['Open', 'High', 'Low', 'Close', 'Volume'], axis=1,inplace=True)\n",
    "alu_daily_returns = alu_daily_returns.rename(columns={\"Adj Close\":\"ALTIUM\"})\n",
    "alu_daily_returns = alu_daily_returns[\"2016-01-01\":]"
   ]
  },
  {
   "cell_type": "code",
   "execution_count": 20,
   "metadata": {},
   "outputs": [],
   "source": [
    "apt_returns_csv = Path(r\"E:\\OneDrive\\Documents\\GitHub\\MonashFintech2021Project1\\Financial Modelling\\Crypto Portfolio\\Resources\\APT.AX.csv\")\n",
    "apt_daily_returns = pd.read_csv(apt_returns_csv, index_col=\"Date\", parse_dates=True, infer_datetime_format=True)\n",
    "apt_daily_returns.drop(columns=['Open', 'High', 'Low', 'Close', 'Volume'], axis=1,inplace=True)\n",
    "apt_daily_returns = apt_daily_returns.rename(columns={\"Adj Close\":\"AFTERPAY\"})\n",
    "apt_daily_returns = apt_daily_returns[\"2016-01-01\":]"
   ]
  },
  {
   "cell_type": "code",
   "execution_count": 21,
   "metadata": {},
   "outputs": [],
   "source": [
    "apx_returns_csv = Path(r\"E:\\OneDrive\\Documents\\GitHub\\MonashFintech2021Project1\\Financial Modelling\\Crypto Portfolio\\Resources\\APX.AX.csv\")\n",
    "apx_daily_returns = pd.read_csv(apx_returns_csv, index_col=\"Date\", parse_dates=True, infer_datetime_format=True)\n",
    "apx_daily_returns.drop(columns=['Open', 'High', 'Low', 'Close', 'Volume'], axis=1,inplace=True)\n",
    "apx_daily_returns = apx_daily_returns.rename(columns={\"Adj Close\":\"APPEN\"})\n",
    "apx_daily_returns = apx_daily_returns[\"2016-01-01\":]"
   ]
  },
  {
   "cell_type": "code",
   "execution_count": 22,
   "metadata": {},
   "outputs": [],
   "source": [
    "wtc_returns_csv = Path(r\"E:\\OneDrive\\Documents\\GitHub\\MonashFintech2021Project1\\Financial Modelling\\Crypto Portfolio\\Resources\\WTC.AX.csv\")\n",
    "wtc_daily_returns = pd.read_csv(wtc_returns_csv, index_col=\"Date\", parse_dates=True, infer_datetime_format=True)\n",
    "wtc_daily_returns.drop(columns=['Open', 'High', 'Low', 'Close', 'Volume'], axis=1,inplace=True)\n",
    "wtc_daily_returns = wtc_daily_returns.rename(columns={\"Adj Close\":\"WISETECH\"})\n",
    "wtc_daily_returns = wtc_daily_returns[\"2016-01-01\":]"
   ]
  },
  {
   "cell_type": "code",
   "execution_count": 23,
   "metadata": {},
   "outputs": [],
   "source": [
    "xro_returns_csv = Path(r\"E:\\OneDrive\\Documents\\GitHub\\MonashFintech2021Project1\\Financial Modelling\\Crypto Portfolio\\Resources\\XRO.AX.csv\")\n",
    "xro_daily_returns = pd.read_csv(xro_returns_csv, index_col=\"Date\", parse_dates=True, infer_datetime_format=True)\n",
    "xro_daily_returns.drop(columns=['Open', 'High', 'Low', 'Close', 'Volume'], axis=1,inplace=True)\n",
    "xro_daily_returns = xro_daily_returns.rename(columns={\"Adj Close\":\"XERO\"})\n",
    "xro_daily_returns = xro_daily_returns[\"2016-01-01\":]"
   ]
  },
  {
   "cell_type": "code",
   "execution_count": 24,
   "metadata": {
    "scrolled": false
   },
   "outputs": [
    {
     "data": {
      "text/html": [
       "<div>\n",
       "<style scoped>\n",
       "    .dataframe tbody tr th:only-of-type {\n",
       "        vertical-align: middle;\n",
       "    }\n",
       "\n",
       "    .dataframe tbody tr th {\n",
       "        vertical-align: top;\n",
       "    }\n",
       "\n",
       "    .dataframe thead th {\n",
       "        text-align: right;\n",
       "    }\n",
       "</style>\n",
       "<table border=\"1\" class=\"dataframe\">\n",
       "  <thead>\n",
       "    <tr style=\"text-align: right;\">\n",
       "      <th></th>\n",
       "      <th>BTC/USD</th>\n",
       "      <th>ETH/USD</th>\n",
       "      <th>ALTIUM</th>\n",
       "      <th>AFTERPAY</th>\n",
       "      <th>APPEN</th>\n",
       "      <th>WISETECH</th>\n",
       "      <th>XERO</th>\n",
       "    </tr>\n",
       "    <tr>\n",
       "      <th>Date</th>\n",
       "      <th></th>\n",
       "      <th></th>\n",
       "      <th></th>\n",
       "      <th></th>\n",
       "      <th></th>\n",
       "      <th></th>\n",
       "      <th></th>\n",
       "    </tr>\n",
       "  </thead>\n",
       "  <tbody>\n",
       "    <tr>\n",
       "      <th>2017-06-29</th>\n",
       "      <td>-0.013776</td>\n",
       "      <td>-0.076371</td>\n",
       "      <td>8.391514</td>\n",
       "      <td>2.700000</td>\n",
       "      <td>3.912474</td>\n",
       "      <td>6.990038</td>\n",
       "      <td>24.650000</td>\n",
       "    </tr>\n",
       "    <tr>\n",
       "      <th>2017-06-30</th>\n",
       "      <td>-0.023030</td>\n",
       "      <td>-0.026304</td>\n",
       "      <td>8.135212</td>\n",
       "      <td>2.950000</td>\n",
       "      <td>3.902693</td>\n",
       "      <td>6.870891</td>\n",
       "      <td>24.190001</td>\n",
       "    </tr>\n",
       "    <tr>\n",
       "      <th>2017-07-03</th>\n",
       "      <td>0.022977</td>\n",
       "      <td>-0.017671</td>\n",
       "      <td>8.002314</td>\n",
       "      <td>3.000000</td>\n",
       "      <td>3.902693</td>\n",
       "      <td>6.602807</td>\n",
       "      <td>24.000000</td>\n",
       "    </tr>\n",
       "    <tr>\n",
       "      <th>2017-07-04</th>\n",
       "      <td>0.014656</td>\n",
       "      <td>-0.033917</td>\n",
       "      <td>8.087749</td>\n",
       "      <td>3.000000</td>\n",
       "      <td>3.912474</td>\n",
       "      <td>6.602807</td>\n",
       "      <td>24.200001</td>\n",
       "    </tr>\n",
       "    <tr>\n",
       "      <th>2017-07-05</th>\n",
       "      <td>0.000135</td>\n",
       "      <td>-0.016571</td>\n",
       "      <td>7.973835</td>\n",
       "      <td>3.180000</td>\n",
       "      <td>3.990724</td>\n",
       "      <td>6.841104</td>\n",
       "      <td>24.480000</td>\n",
       "    </tr>\n",
       "    <tr>\n",
       "      <th>...</th>\n",
       "      <td>...</td>\n",
       "      <td>...</td>\n",
       "      <td>...</td>\n",
       "      <td>...</td>\n",
       "      <td>...</td>\n",
       "      <td>...</td>\n",
       "      <td>...</td>\n",
       "    </tr>\n",
       "    <tr>\n",
       "      <th>2021-03-31</th>\n",
       "      <td>0.000019</td>\n",
       "      <td>0.039180</td>\n",
       "      <td>26.469999</td>\n",
       "      <td>101.500000</td>\n",
       "      <td>15.830000</td>\n",
       "      <td>29.049999</td>\n",
       "      <td>126.529999</td>\n",
       "    </tr>\n",
       "    <tr>\n",
       "      <th>2021-04-01</th>\n",
       "      <td>0.003004</td>\n",
       "      <td>0.030711</td>\n",
       "      <td>26.780001</td>\n",
       "      <td>105.519997</td>\n",
       "      <td>16.379999</td>\n",
       "      <td>29.559999</td>\n",
       "      <td>130.869995</td>\n",
       "    </tr>\n",
       "    <tr>\n",
       "      <th>2021-04-06</th>\n",
       "      <td>-0.014655</td>\n",
       "      <td>0.004977</td>\n",
       "      <td>27.240000</td>\n",
       "      <td>116.040001</td>\n",
       "      <td>16.580000</td>\n",
       "      <td>31.090000</td>\n",
       "      <td>135.000000</td>\n",
       "    </tr>\n",
       "    <tr>\n",
       "      <th>2021-04-07</th>\n",
       "      <td>0.000000</td>\n",
       "      <td>0.000000</td>\n",
       "      <td>27.240000</td>\n",
       "      <td>116.040001</td>\n",
       "      <td>16.580000</td>\n",
       "      <td>31.090000</td>\n",
       "      <td>135.000000</td>\n",
       "    </tr>\n",
       "    <tr>\n",
       "      <th>2021-04-08</th>\n",
       "      <td>-0.034114</td>\n",
       "      <td>-0.067525</td>\n",
       "      <td>27.299999</td>\n",
       "      <td>120.010002</td>\n",
       "      <td>16.590000</td>\n",
       "      <td>30.930000</td>\n",
       "      <td>136.830002</td>\n",
       "    </tr>\n",
       "  </tbody>\n",
       "</table>\n",
       "<p>957 rows × 7 columns</p>\n",
       "</div>"
      ],
      "text/plain": [
       "             BTC/USD   ETH/USD     ALTIUM    AFTERPAY      APPEN   WISETECH  \\\n",
       "Date                                                                          \n",
       "2017-06-29 -0.013776 -0.076371   8.391514    2.700000   3.912474   6.990038   \n",
       "2017-06-30 -0.023030 -0.026304   8.135212    2.950000   3.902693   6.870891   \n",
       "2017-07-03  0.022977 -0.017671   8.002314    3.000000   3.902693   6.602807   \n",
       "2017-07-04  0.014656 -0.033917   8.087749    3.000000   3.912474   6.602807   \n",
       "2017-07-05  0.000135 -0.016571   7.973835    3.180000   3.990724   6.841104   \n",
       "...              ...       ...        ...         ...        ...        ...   \n",
       "2021-03-31  0.000019  0.039180  26.469999  101.500000  15.830000  29.049999   \n",
       "2021-04-01  0.003004  0.030711  26.780001  105.519997  16.379999  29.559999   \n",
       "2021-04-06 -0.014655  0.004977  27.240000  116.040001  16.580000  31.090000   \n",
       "2021-04-07  0.000000  0.000000  27.240000  116.040001  16.580000  31.090000   \n",
       "2021-04-08 -0.034114 -0.067525  27.299999  120.010002  16.590000  30.930000   \n",
       "\n",
       "                  XERO  \n",
       "Date                    \n",
       "2017-06-29   24.650000  \n",
       "2017-06-30   24.190001  \n",
       "2017-07-03   24.000000  \n",
       "2017-07-04   24.200001  \n",
       "2017-07-05   24.480000  \n",
       "...                ...  \n",
       "2021-03-31  126.529999  \n",
       "2021-04-01  130.869995  \n",
       "2021-04-06  135.000000  \n",
       "2021-04-07  135.000000  \n",
       "2021-04-08  136.830002  \n",
       "\n",
       "[957 rows x 7 columns]"
      ]
     },
     "execution_count": 24,
     "metadata": {},
     "output_type": "execute_result"
    }
   ],
   "source": [
    "# Combined stocks with crypto\n",
    "mixed1_df = pd.concat([\n",
    "    crypto_returns,\n",
    "    alu_daily_returns,\n",
    "    apt_daily_returns,\n",
    "    apx_daily_returns,\n",
    "    wtc_daily_returns,\n",
    "    xro_daily_returns\n",
    "     \n",
    "],axis=\"columns\",join=\"inner\")\n"
   ]
  },
  {
   "cell_type": "markdown",
   "metadata": {},
   "source": [
    "### Calculate Returns, Mean, Standard Deviation"
   ]
  },
  {
   "cell_type": "code",
   "execution_count": 26,
   "metadata": {},
   "outputs": [
    {
     "data": {
      "text/html": [
       "<div>\n",
       "<style scoped>\n",
       "    .dataframe tbody tr th:only-of-type {\n",
       "        vertical-align: middle;\n",
       "    }\n",
       "\n",
       "    .dataframe tbody tr th {\n",
       "        vertical-align: top;\n",
       "    }\n",
       "\n",
       "    .dataframe thead th {\n",
       "        text-align: right;\n",
       "    }\n",
       "</style>\n",
       "<table border=\"1\" class=\"dataframe\">\n",
       "  <thead>\n",
       "    <tr style=\"text-align: right;\">\n",
       "      <th></th>\n",
       "      <th>BTC/USD</th>\n",
       "      <th>ETH/USD</th>\n",
       "      <th>ALTIUM</th>\n",
       "      <th>AFTERPAY</th>\n",
       "      <th>APPEN</th>\n",
       "      <th>WISETECH</th>\n",
       "      <th>XERO</th>\n",
       "    </tr>\n",
       "    <tr>\n",
       "      <th>Date</th>\n",
       "      <th></th>\n",
       "      <th></th>\n",
       "      <th></th>\n",
       "      <th></th>\n",
       "      <th></th>\n",
       "      <th></th>\n",
       "      <th></th>\n",
       "    </tr>\n",
       "  </thead>\n",
       "  <tbody>\n",
       "    <tr>\n",
       "      <th>2017-06-29</th>\n",
       "      <td>NaN</td>\n",
       "      <td>NaN</td>\n",
       "      <td>NaN</td>\n",
       "      <td>NaN</td>\n",
       "      <td>NaN</td>\n",
       "      <td>NaN</td>\n",
       "      <td>NaN</td>\n",
       "    </tr>\n",
       "    <tr>\n",
       "      <th>2017-06-30</th>\n",
       "      <td>0.671748</td>\n",
       "      <td>-0.655576</td>\n",
       "      <td>-0.030543</td>\n",
       "      <td>0.092593</td>\n",
       "      <td>-0.002500</td>\n",
       "      <td>-0.017045</td>\n",
       "      <td>-0.018661</td>\n",
       "    </tr>\n",
       "    <tr>\n",
       "      <th>2017-07-03</th>\n",
       "      <td>-1.997690</td>\n",
       "      <td>-0.328203</td>\n",
       "      <td>-0.016336</td>\n",
       "      <td>0.016949</td>\n",
       "      <td>0.000000</td>\n",
       "      <td>-0.039017</td>\n",
       "      <td>-0.007855</td>\n",
       "    </tr>\n",
       "    <tr>\n",
       "      <th>2017-07-04</th>\n",
       "      <td>-0.362116</td>\n",
       "      <td>0.919360</td>\n",
       "      <td>0.010676</td>\n",
       "      <td>0.000000</td>\n",
       "      <td>0.002506</td>\n",
       "      <td>0.000000</td>\n",
       "      <td>0.008333</td>\n",
       "    </tr>\n",
       "    <tr>\n",
       "      <th>2017-07-05</th>\n",
       "      <td>-0.990818</td>\n",
       "      <td>-0.511410</td>\n",
       "      <td>-0.014085</td>\n",
       "      <td>0.060000</td>\n",
       "      <td>0.020000</td>\n",
       "      <td>0.036090</td>\n",
       "      <td>0.011570</td>\n",
       "    </tr>\n",
       "    <tr>\n",
       "      <th>...</th>\n",
       "      <td>...</td>\n",
       "      <td>...</td>\n",
       "      <td>...</td>\n",
       "      <td>...</td>\n",
       "      <td>...</td>\n",
       "      <td>...</td>\n",
       "      <td>...</td>\n",
       "    </tr>\n",
       "    <tr>\n",
       "      <th>2021-03-31</th>\n",
       "      <td>-0.999042</td>\n",
       "      <td>1.705859</td>\n",
       "      <td>0.016513</td>\n",
       "      <td>0.004652</td>\n",
       "      <td>-0.030618</td>\n",
       "      <td>0.031972</td>\n",
       "      <td>0.007244</td>\n",
       "    </tr>\n",
       "    <tr>\n",
       "      <th>2021-04-01</th>\n",
       "      <td>154.154531</td>\n",
       "      <td>-0.216165</td>\n",
       "      <td>0.011711</td>\n",
       "      <td>0.039606</td>\n",
       "      <td>0.034744</td>\n",
       "      <td>0.017556</td>\n",
       "      <td>0.034300</td>\n",
       "    </tr>\n",
       "    <tr>\n",
       "      <th>2021-04-06</th>\n",
       "      <td>-5.879074</td>\n",
       "      <td>-0.837929</td>\n",
       "      <td>0.017177</td>\n",
       "      <td>0.099697</td>\n",
       "      <td>0.012210</td>\n",
       "      <td>0.051759</td>\n",
       "      <td>0.031558</td>\n",
       "    </tr>\n",
       "    <tr>\n",
       "      <th>2021-04-07</th>\n",
       "      <td>-1.000000</td>\n",
       "      <td>-1.000000</td>\n",
       "      <td>0.000000</td>\n",
       "      <td>0.000000</td>\n",
       "      <td>0.000000</td>\n",
       "      <td>0.000000</td>\n",
       "      <td>0.000000</td>\n",
       "    </tr>\n",
       "    <tr>\n",
       "      <th>2021-04-08</th>\n",
       "      <td>-inf</td>\n",
       "      <td>-inf</td>\n",
       "      <td>0.002203</td>\n",
       "      <td>0.034212</td>\n",
       "      <td>0.000603</td>\n",
       "      <td>-0.005146</td>\n",
       "      <td>0.013556</td>\n",
       "    </tr>\n",
       "  </tbody>\n",
       "</table>\n",
       "<p>957 rows × 7 columns</p>\n",
       "</div>"
      ],
      "text/plain": [
       "               BTC/USD   ETH/USD    ALTIUM  AFTERPAY     APPEN  WISETECH  \\\n",
       "Date                                                                       \n",
       "2017-06-29         NaN       NaN       NaN       NaN       NaN       NaN   \n",
       "2017-06-30    0.671748 -0.655576 -0.030543  0.092593 -0.002500 -0.017045   \n",
       "2017-07-03   -1.997690 -0.328203 -0.016336  0.016949  0.000000 -0.039017   \n",
       "2017-07-04   -0.362116  0.919360  0.010676  0.000000  0.002506  0.000000   \n",
       "2017-07-05   -0.990818 -0.511410 -0.014085  0.060000  0.020000  0.036090   \n",
       "...                ...       ...       ...       ...       ...       ...   \n",
       "2021-03-31   -0.999042  1.705859  0.016513  0.004652 -0.030618  0.031972   \n",
       "2021-04-01  154.154531 -0.216165  0.011711  0.039606  0.034744  0.017556   \n",
       "2021-04-06   -5.879074 -0.837929  0.017177  0.099697  0.012210  0.051759   \n",
       "2021-04-07   -1.000000 -1.000000  0.000000  0.000000  0.000000  0.000000   \n",
       "2021-04-08        -inf      -inf  0.002203  0.034212  0.000603 -0.005146   \n",
       "\n",
       "                XERO  \n",
       "Date                  \n",
       "2017-06-29       NaN  \n",
       "2017-06-30 -0.018661  \n",
       "2017-07-03 -0.007855  \n",
       "2017-07-04  0.008333  \n",
       "2017-07-05  0.011570  \n",
       "...              ...  \n",
       "2021-03-31  0.007244  \n",
       "2021-04-01  0.034300  \n",
       "2021-04-06  0.031558  \n",
       "2021-04-07  0.000000  \n",
       "2021-04-08  0.013556  \n",
       "\n",
       "[957 rows x 7 columns]"
      ]
     },
     "execution_count": 26,
     "metadata": {},
     "output_type": "execute_result"
    }
   ],
   "source": [
    "#Calculate daily returns\n",
    "mixed1_returns = mixed1_df.pct_change()\n",
    "mixed1_returns"
   ]
  },
  {
   "cell_type": "code",
   "execution_count": 27,
   "metadata": {},
   "outputs": [
    {
     "data": {
      "text/plain": [
       "BTC/USD      0.003748\n",
       "ETH/USD      0.001913\n",
       "ALTIUM      26.353309\n",
       "AFTERPAY    35.309049\n",
       "APPEN       19.060242\n",
       "WISETECH    20.573811\n",
       "XERO        64.396061\n",
       "dtype: float64"
      ]
     },
     "execution_count": 27,
     "metadata": {},
     "output_type": "execute_result"
    }
   ],
   "source": [
    "#Calculate means\n",
    "mixed1_means = mixed1_df.mean()\n",
    "mixed1_means"
   ]
  },
  {
   "cell_type": "code",
   "execution_count": 28,
   "metadata": {},
   "outputs": [
    {
     "data": {
      "text/plain": [
       "BTC/USD      0.045837\n",
       "ETH/USD      0.055953\n",
       "ALTIUM       8.899713\n",
       "AFTERPAY    36.618662\n",
       "APPEN        9.556712\n",
       "WISETECH     7.710042\n",
       "XERO        32.353514\n",
       "dtype: float64"
      ]
     },
     "execution_count": 28,
     "metadata": {},
     "output_type": "execute_result"
    }
   ],
   "source": [
    "#Calculate Standard Deviation\n",
    "mixed1_std = mixed1_df.std()\n",
    "mixed1_std"
   ]
  },
  {
   "cell_type": "code",
   "execution_count": 29,
   "metadata": {
    "scrolled": true
   },
   "outputs": [
    {
     "data": {
      "text/html": [
       "<div>\n",
       "<style scoped>\n",
       "    .dataframe tbody tr th:only-of-type {\n",
       "        vertical-align: middle;\n",
       "    }\n",
       "\n",
       "    .dataframe tbody tr th {\n",
       "        vertical-align: top;\n",
       "    }\n",
       "\n",
       "    .dataframe thead th {\n",
       "        text-align: right;\n",
       "    }\n",
       "</style>\n",
       "<table border=\"1\" class=\"dataframe\">\n",
       "  <thead>\n",
       "    <tr style=\"text-align: right;\">\n",
       "      <th></th>\n",
       "      <th>BTC/USD</th>\n",
       "      <th>ETH/USD</th>\n",
       "      <th>ALTIUM</th>\n",
       "      <th>AFTERPAY</th>\n",
       "      <th>APPEN</th>\n",
       "      <th>WISETECH</th>\n",
       "      <th>XERO</th>\n",
       "    </tr>\n",
       "  </thead>\n",
       "  <tbody>\n",
       "    <tr>\n",
       "      <th>BTC/USD</th>\n",
       "      <td>4750.897135</td>\n",
       "      <td>113.049635</td>\n",
       "      <td>0.020326</td>\n",
       "      <td>0.157268</td>\n",
       "      <td>0.212604</td>\n",
       "      <td>0.028920</td>\n",
       "      <td>0.042338</td>\n",
       "    </tr>\n",
       "    <tr>\n",
       "      <th>ETH/USD</th>\n",
       "      <td>113.049635</td>\n",
       "      <td>11674.178361</td>\n",
       "      <td>0.068984</td>\n",
       "      <td>0.022782</td>\n",
       "      <td>0.276389</td>\n",
       "      <td>0.213102</td>\n",
       "      <td>0.055892</td>\n",
       "    </tr>\n",
       "    <tr>\n",
       "      <th>ALTIUM</th>\n",
       "      <td>0.020326</td>\n",
       "      <td>0.068984</td>\n",
       "      <td>0.000765</td>\n",
       "      <td>0.000391</td>\n",
       "      <td>0.000443</td>\n",
       "      <td>0.000523</td>\n",
       "      <td>0.000274</td>\n",
       "    </tr>\n",
       "    <tr>\n",
       "      <th>AFTERPAY</th>\n",
       "      <td>0.157268</td>\n",
       "      <td>0.022782</td>\n",
       "      <td>0.000391</td>\n",
       "      <td>0.002315</td>\n",
       "      <td>0.000550</td>\n",
       "      <td>0.000560</td>\n",
       "      <td>0.000400</td>\n",
       "    </tr>\n",
       "    <tr>\n",
       "      <th>APPEN</th>\n",
       "      <td>0.212604</td>\n",
       "      <td>0.276389</td>\n",
       "      <td>0.000443</td>\n",
       "      <td>0.000550</td>\n",
       "      <td>0.001143</td>\n",
       "      <td>0.000424</td>\n",
       "      <td>0.000325</td>\n",
       "    </tr>\n",
       "    <tr>\n",
       "      <th>WISETECH</th>\n",
       "      <td>0.028920</td>\n",
       "      <td>0.213102</td>\n",
       "      <td>0.000523</td>\n",
       "      <td>0.000560</td>\n",
       "      <td>0.000424</td>\n",
       "      <td>0.001421</td>\n",
       "      <td>0.000302</td>\n",
       "    </tr>\n",
       "    <tr>\n",
       "      <th>XERO</th>\n",
       "      <td>0.042338</td>\n",
       "      <td>0.055892</td>\n",
       "      <td>0.000274</td>\n",
       "      <td>0.000400</td>\n",
       "      <td>0.000325</td>\n",
       "      <td>0.000302</td>\n",
       "      <td>0.000511</td>\n",
       "    </tr>\n",
       "  </tbody>\n",
       "</table>\n",
       "</div>"
      ],
      "text/plain": [
       "              BTC/USD       ETH/USD    ALTIUM  AFTERPAY     APPEN  WISETECH  \\\n",
       "BTC/USD   4750.897135    113.049635  0.020326  0.157268  0.212604  0.028920   \n",
       "ETH/USD    113.049635  11674.178361  0.068984  0.022782  0.276389  0.213102   \n",
       "ALTIUM       0.020326      0.068984  0.000765  0.000391  0.000443  0.000523   \n",
       "AFTERPAY     0.157268      0.022782  0.000391  0.002315  0.000550  0.000560   \n",
       "APPEN        0.212604      0.276389  0.000443  0.000550  0.001143  0.000424   \n",
       "WISETECH     0.028920      0.213102  0.000523  0.000560  0.000424  0.001421   \n",
       "XERO         0.042338      0.055892  0.000274  0.000400  0.000325  0.000302   \n",
       "\n",
       "              XERO  \n",
       "BTC/USD   0.042338  \n",
       "ETH/USD   0.055892  \n",
       "ALTIUM    0.000274  \n",
       "AFTERPAY  0.000400  \n",
       "APPEN     0.000325  \n",
       "WISETECH  0.000302  \n",
       "XERO      0.000511  "
      ]
     },
     "execution_count": 29,
     "metadata": {},
     "output_type": "execute_result"
    }
   ],
   "source": [
    "#Calculate Covariance Matrix\n",
    "mixed1_cov_matrix = mixed1_returns.cov()\n",
    "mixed1_cov_matrix"
   ]
  },
  {
   "cell_type": "code",
   "execution_count": 30,
   "metadata": {
    "scrolled": true
   },
   "outputs": [
    {
     "data": {
      "image/png": "[encoded data removed]",
      "text/plain": [
       "<Figure size 432x288 with 2 Axes>"
      ]
     },
     "metadata": {
      "needs_background": "light"
     },
     "output_type": "display_data"
    }
   ],
   "source": [
    "# Plot the correlation heatmap\n",
    "mixed1_corr = mixed1_returns.corr()\n",
    "ax = sns.heatmap(\n",
    "    mixed1_corr, \n",
    "    vmin=-1, vmax=1, center=0,\n",
    "    cmap=sns.diverging_palette(20, 220, n=200),\n",
    "    square=True\n",
    ")\n",
    "ax.set_xticklabels(\n",
    "    ax.get_xticklabels(),\n",
    "    rotation=45,\n",
    "    horizontalalignment='right'\n",
    ");"
   ]
  },
  {
   "cell_type": "code",
   "execution_count": 37,
   "metadata": {},
   "outputs": [
    {
     "ename": "NameError",
     "evalue": "name 'weights' is not defined",
     "output_type": "error",
     "traceback": [
      "\u001b[1;31m---------------------------------------------------------------------------\u001b[0m",
      "\u001b[1;31mNameError\u001b[0m                                 Traceback (most recent call last)",
      "\u001b[1;32m<ipython-input-37-265fabd5307c>\u001b[0m in \u001b[0;36m<module>\u001b[1;34m\u001b[0m\n\u001b[0;32m      1\u001b[0m \u001b[1;31m# Volatility\u001b[0m\u001b[1;33m\u001b[0m\u001b[1;33m\u001b[0m\u001b[1;33m\u001b[0m\u001b[0m\n\u001b[1;32m----> 2\u001b[1;33m \u001b[0mmixed1_vol\u001b[0m \u001b[1;33m=\u001b[0m \u001b[0mnp\u001b[0m\u001b[1;33m.\u001b[0m\u001b[0msum\u001b[0m\u001b[1;33m(\u001b[0m\u001b[0mmixed1_means\u001b[0m\u001b[1;33m*\u001b[0m\u001b[0mweights\u001b[0m \u001b[1;33m)\u001b[0m \u001b[1;33m*\u001b[0m\u001b[1;36m252\u001b[0m\u001b[1;33m\u001b[0m\u001b[1;33m\u001b[0m\u001b[0m\n\u001b[0m",
      "\u001b[1;31mNameError\u001b[0m: name 'weights' is not defined"
     ]
    }
   ],
   "source": [
    "# Volatility\n",
    "mixed_vol = "
   ]
  },
  {
   "cell_type": "code",
   "execution_count": null,
   "metadata": {},
   "outputs": [],
   "source": []
  }
 ],
 "metadata": {
  "kernelspec": {
   "display_name": "Python 3",
   "language": "python",
   "name": "python3"
  },
  "language_info": {
   "codemirror_mode": {
    "name": "ipython",
    "version": 3
   },
   "file_extension": ".py",
   "mimetype": "text/x-python",
   "name": "python",
   "nbconvert_exporter": "python",
   "pygments_lexer": "ipython3",
   "version": "3.8.5"
  }
 },
 "nbformat": 4,
 "nbformat_minor": 4
}
