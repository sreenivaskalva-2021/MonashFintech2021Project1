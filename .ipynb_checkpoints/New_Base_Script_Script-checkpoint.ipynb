{
 "cells": [
  {
   "cell_type": "code",
   "execution_count": 78,
   "id": "4c71611f",
   "metadata": {},
   "outputs": [],
   "source": [
    "#Import required packages\n",
    "import PySimpleGUI as sg\n",
    "import pandas as pd\n",
    "import numpy as np\n",
    "import yfinance as yf \n",
    "\n",
    "# optimum portfolio\n",
    "import matplotlib.pyplot as plt\n",
    "from pypfopt import plotting\n",
    "from pypfopt import EfficientFrontier\n",
    "from pypfopt.efficient_frontier import EfficientFrontier \n",
    "from pypfopt import EfficientFrontier\n",
    "from pypfopt import risk_models\n",
    "from pypfopt import expected_returns\n",
    "\n",
    "#Interest rate packages\n",
    "import requests\n",
    "import quandl\n",
    "\n",
    "\n"
   ]
  },
  {
   "cell_type": "code",
   "execution_count": 79,
   "id": "9bbdfd77",
   "metadata": {},
   "outputs": [],
   "source": [
    "#Declare variables\n",
    "investment_amount = float()\n",
    "\n",
    "stock1_value = float()\n",
    "stock1_name = str()\n",
    "stock2_value = float()\n",
    "stock2_name = str()\n",
    "stock3_value = float()\n",
    "stock3_name = str()\n",
    "stock4_value = float()\n",
    "stock4_name = str()\n",
    "stock5_value = float()\n",
    "stock5_name = str()\n",
    "stock6_value = float()\n",
    "stock6_name = str()\n",
    "stock7_value = float()\n",
    "stock7_name = str()\n",
    "stock8_value = float()\n",
    "stock8_name = str()\n",
    "stock9_value = float()\n",
    "stock9_name = str()\n",
    "stock10_value = float()\n",
    "stock10_name = str()\n",
    "stock11_value = float()\n",
    "stock11_name = str()\n",
    "stock12_value = float()\n",
    "stock12_name = str()\n",
    "stock13_value = float()\n",
    "stock14_name = str()\n",
    "stock14_value = float()\n",
    "stock15_name = str()\n",
    "stock15_value = float()\n",
    "stock16_name = str()\n",
    "stock16_value = float()\n",
    "stock17_name = str()\n",
    "stock17_value = float()\n",
    "stock18_name = str()\n",
    "stock18_value = float()\n",
    "stock19_name = str()\n",
    "stock19_value = float()\n",
    "stock20_name = str()\n",
    "stock20_value = float()\n",
    "\n",
    "check_value = float()\n",
    "counta = 0"
   ]
  },
  {
   "cell_type": "code",
   "execution_count": 83,
   "id": "bec3eb30",
   "metadata": {},
   "outputs": [],
   "source": [
    "#Create User GUI with pysimplegui package\n",
    "sg.theme('Material2')   # Other colours can be found in https://preview.redd.it/otneabe3zbz31.png?width=2305&format=png&auto=webp&s=7fdcf387d843f822892c724e0c6e73db038aec3d\n",
    "\n",
    "# Layout in window\n",
    "layout_tab_1 = [  [sg.Text('Stock 1 Code'),sg.InputText(size=(5,1), key='-stock_1-'),sg.Text('ASX 3 letter code only'),sg.Text('Weighting of Stock 1'), sg.Slider(range=(0.00,100.00), orientation='h', size=(25,20), key='-stock_1_val')],\n",
    "            #[sg.Text('Weighting of Stock 1'), sg.Slider(range=(0.00,100.00), orientation='h', size=(15,20), key='-stock_1_val')], #resolution = 0.1 for decimals\n",
    "            [sg.Text('Stock 2 Code'),sg.InputText(size=(5,1), key='-stock_2-'),sg.Text('ASX 3 letter code only'),sg.Text('Weighting of Stock 2'), sg.Slider(range=(0.00,100.00), orientation='h', size=(25,20), key='-stock_2_val')],\n",
    "            [sg.Text('Stock 3 Code'),sg.InputText(size=(5,1), key='-stock_3-'),sg.Text('ASX 3 letter code only'),sg.Text('Weighting of Stock 3'), sg.Slider(range=(0.00,100.00), orientation='h', size=(25,20), key='-stock_3_val')],\n",
    "            [sg.Text('Stock 4 Code'),sg.InputText(size=(5,1), key='-stock_4-'),sg.Text('ASX 3 letter code only'),sg.Text('Weighting of Stock 4'), sg.Slider(range=(0.00,100.00), orientation='h', size=(25,20), key='-stock_4_val')],\n",
    "            [sg.Text('Stock 5 Code'),sg.InputText(size=(5,1), key='-stock_5-'),sg.Text('ASX 3 letter code only'),sg.Text('Weighting of Stock 5'), sg.Slider(range=(0.00,100.00), orientation='h', size=(25,20), key='-stock_5_val')],\n",
    "            [sg.Text('Stock 6 Code'),sg.InputText(size=(5,1), key='-stock_6-'),sg.Text('ASX 3 letter code only'),sg.Text('Weighting of Stock 6'), sg.Slider(range=(0.00,100.00), orientation='h', size=(25,20), key='-stock_6_val')],\n",
    "            [sg.Text('Stock 7 Code'),sg.InputText(size=(5,1), key='-stock_7-'),sg.Text('ASX 3 letter code only'),sg.Text('Weighting of Stock 7'), sg.Slider(range=(0.00,100.00), orientation='h', size=(25,20), key='-stock_7_val')],\n",
    "            [sg.Text('Stock 8 Code'),sg.InputText(size=(5,1), key='-stock_8-'),sg.Text('ASX 3 letter code only'),sg.Text('Weighting of Stock 8'), sg.Slider(range=(0.00,100.00), orientation='h', size=(25,20), key='-stock_8_val')],\n",
    "            [sg.Text('Stock 9 Code'),sg.InputText(size=(5,1), key='-stock_9-'),sg.Text('ASX 3 letter code only'),sg.Text('Weighting of Stock 9'), sg.Slider(range=(0.00,100.00), orientation='h', size=(25,20), key='-stock_9_val')],\n",
    "            [sg.Text('Stock 10 Code'),sg.InputText(size=(5,1), key='-stock_10-'),sg.Text('ASX 3 letter code only'),sg.Text('Weighting of Stock 10'), sg.Slider(range=(0.00,100.00), orientation='h', size=(25,20), key='-stock_10_val')]\n",
    "          \n",
    "         ]\n",
    "\n",
    "layout_tab_2 = [  \n",
    "            [sg.Text('Stock 11 Code'),sg.InputText(size=(5,1), key='-stock_11-'),sg.Text('ASX 3 letter code only'),sg.Text('Weighting of Stock 11'), sg.Slider(range=(0.00,100.00), orientation='h', size=(25,20), key='-stock_11_val')],\n",
    "            [sg.Text('Stock 12 Code'),sg.InputText(size=(5,1), key='-stock_12-'),sg.Text('ASX 3 letter code only'),sg.Text('Weighting of Stock 12'), sg.Slider(range=(0.00,100.00), orientation='h', size=(25,20), key='-stock_12_val')],\n",
    "            [sg.Text('Stock 13 Code'),sg.InputText(size=(5,1), key='-stock_13-'),sg.Text('ASX 3 letter code only'),sg.Text('Weighting of Stock 13'), sg.Slider(range=(0.00,100.00), orientation='h', size=(25,20), key='-stock_13_val')],\n",
    "            [sg.Text('Stock 14 Code'),sg.InputText(size=(5,1), key='-stock_14-'),sg.Text('ASX 3 letter code only'),sg.Text('Weighting of Stock 14'), sg.Slider(range=(0.00,100.00), orientation='h', size=(25,20), key='-stock_14_val')],\n",
    "            [sg.Text('Stock 15 Code'),sg.InputText(size=(5,1), key='-stock_15-'),sg.Text('ASX 3 letter code only'),sg.Text('Weighting of Stock 15'), sg.Slider(range=(0.00,100.00), orientation='h', size=(25,20), key='-stock_15_val')],\n",
    "            [sg.Text('Stock 16 Code'),sg.InputText(size=(5,1), key='-stock_16-'),sg.Text('ASX 3 letter code only'),sg.Text('Weighting of Stock 16'), sg.Slider(range=(0.00,100.00), orientation='h', size=(25,20), key='-stock_16_val')],\n",
    "            [sg.Text('Stock 17 Code'),sg.InputText(size=(5,1), key='-stock_17-'),sg.Text('ASX 3 letter code only'),sg.Text('Weighting of Stock 17'), sg.Slider(range=(0.00,100.00), orientation='h', size=(25,20), key='-stock_17_val')],\n",
    "            [sg.Text('Stock 18 Code'),sg.InputText(size=(5,1), key='-stock_18-'),sg.Text('ASX 3 letter code only'),sg.Text('Weighting of Stock 18'), sg.Slider(range=(0.00,100.00), orientation='h', size=(25,20), key='-stock_18_val')],\n",
    "            [sg.Text('Stock 19 Code'),sg.InputText(size=(5,1), key='-stock_19-'),sg.Text('ASX 3 letter code only'),sg.Text('Weighting of Stock 19'), sg.Slider(range=(0.00,100.00), orientation='h', size=(25,20), key='-stock_19_val')],\n",
    "            [sg.Text('Stock 20 Code'),sg.InputText(size=(5,1), key='-stock_20-'),sg.Text('ASX 3 letter code only'),sg.Text('Weighting of Stock 20'), sg.Slider(range=(0.00,100.00), orientation='h', size=(25,20), key='-stock_20_val')],\n",
    "         ]\n",
    "\n",
    "layout_tab_3 = [[sg.Text('Investment Amount'),sg.InputText(size=(10,1), key='-invest_amt-')],\n",
    "                [sg.Text('ASX top 20 stock codes are as per follow for reference:')],\n",
    "                [sg.Text('         AMC, ANZ, BHP, BXB, CBA, CSL, GMG, IAG, MQG, NAB')],\n",
    "                [sg.Text('         NCM, RIO, SCG, SUN, TLS, TCL, WES, WBC, WPL and WOW')]\n",
    "        ]\n",
    "#layout = [  [sg.TabGroup([[sg.Tab('First 10 Stocks', layout_tab_1, tooltip = 'inputs for first 10 stocks'), sg.Tab('Second 10 Stocks', layout_tab_2, tooltip = 'inputs for second 10 stocks')]],\n",
    "#            [sg.Button('Ok'), sg.Button('Cancel')],\n",
    "#            [sg.Button('Check Weighting to see if it is 100%'), sg.Txt(size=(8,1), key='-CHECK-')] \n",
    "#         ]\n",
    "                         \n",
    "#layout = [[sg.TabGroup([[sg.Tab('First 10 Stocks', layout_tab_1, tooltip = 'inputs for first 10 stocks'), sg.Tab('Second 10 Stocks', layout_tab_2)]], tooltip = 'inputs for second 10 stocks')],    \n",
    "layout = [[sg.TabGroup([[sg.Tab('Investment Amount', layout_tab_3),sg.Tab('First 10 Stocks', layout_tab_1, tooltip = 'inputs for first 10 stocks'), sg.Tab('Second 10 Stocks', layout_tab_2)]], tooltip = 'inputs for second 10 stocks')],    \n",
    "            [sg.Button('Ok'), sg.Button('Cancel')],\n",
    "            [sg.Button('Check Weighting to see if it is 100%'), sg.Txt(size=(8,1), key='-CHECK-')] \n",
    "            \n",
    "                       ]   \n",
    "                         \n",
    "\n",
    "# Create the Window\n",
    "window = sg.Window('Window Title', layout)\n",
    "\n",
    "# Event Loop to process \"events\" and get the \"values\" of the inputs\n",
    "while True:\n",
    "    event, values = window.read()\n",
    "\n",
    "    \n",
    "    \n",
    "#loop to work out if weighting adds up to 100% or not \n",
    "    if event == 'Check Weighting to see if it is 100%':\n",
    "        stock1_value =  float(values['-stock_1_val'])\n",
    "        stock2_value =  float(values['-stock_2_val'])\n",
    "        stock3_value =  float(values['-stock_3_val'])\n",
    "        stock4_value =  float(values['-stock_4_val'])\n",
    "        stock5_value =  float(values['-stock_5_val'])\n",
    "        stock6_value =  float(values['-stock_6_val'])\n",
    "        stock7_value =  float(values['-stock_7_val'])\n",
    "        stock8_value =  float(values['-stock_8_val'])        \n",
    "        stock9_value =  float(values['-stock_9_val'])\n",
    "        stock10_value =  float(values['-stock_10_val'])\n",
    "        stock11_value =  float(values['-stock_11_val'])\n",
    "        stock12_value =  float(values['-stock_12_val'])\n",
    "        stock13_value =  float(values['-stock_13_val'])\n",
    "        stock14_value =  float(values['-stock_14_val'])\n",
    "        stock15_value =  float(values['-stock_15_val'])\n",
    "        stock16_value =  float(values['-stock_16_val'])        \n",
    "        stock17_value =  float(values['-stock_17_val'])\n",
    "        stock18_value =  float(values['-stock_18_val'])\n",
    "        stock19_value =  float(values['-stock_19_val'])\n",
    "        stock20_value =  float(values['-stock_20_val'])\n",
    "        check_value = stock1_value + stock2_value + stock3_value + stock4_value + stock5_value + stock6_value + stock7_value + stock8_value + stock9_value + stock10_value + stock11_value + stock12_value + stock13_value + stock14_value + stock15_value + stock16_value + stock17_value + stock18_value + stock19_value + stock20_value\n",
    "        window['-CHECK-'].update(check_value)\n",
    "\n",
    "#loop to store value or display error message\n",
    "    if event == 'Ok':\n",
    "        \n",
    "        #store values input\n",
    "        investment_amount =  float(values['-invest_amt-'])\n",
    "        stock1_value =  float(values['-stock_1_val'])\n",
    "        stock1_name = str(values['-stock_1-']).upper()\n",
    "        stock2_value =  float(values['-stock_2_val'])\n",
    "        stock2_name = str(values['-stock_2-']).upper()\n",
    "        stock3_value =  float(values['-stock_3_val'])\n",
    "        stock3_name = str(values['-stock_3-']).upper()\n",
    "        stock4_value =  float(values['-stock_4_val'])\n",
    "        stock4_name = str(values['-stock_4-']).upper()\n",
    "        stock5_value =  float(values['-stock_5_val'])\n",
    "        stock5_name = str(values['-stock_5-']).upper()\n",
    "        stock6_value =  float(values['-stock_6_val'])\n",
    "        stock6_name = str(values['-stock_6-']).upper()\n",
    "        stock7_value =  float(values['-stock_7_val'])\n",
    "        stock7_name = str(values['-stock_7-']).upper()\n",
    "        stock8_value =  float(values['-stock_8_val'])\n",
    "        stock8_name = str(values['-stock_8-']).upper()\n",
    "        stock9_value =  float(values['-stock_9_val'])\n",
    "        stock9_name = str(values['-stock_9-']).upper()\n",
    "        stock10_value =  float(values['-stock_10_val'])\n",
    "        stock10_name = str(values['-stock_10-']).upper()\n",
    "        stock11_value =  float(values['-stock_11_val'])\n",
    "        stock11_name = str(values['-stock_11-']).upper()\n",
    "        stock12_value =  float(values['-stock_12_val'])\n",
    "        stock12_name = str(values['-stock_12-']).upper()\n",
    "        stock13_value =  float(values['-stock_13_val'])\n",
    "        stock13_name = str(values['-stock_13-']).upper()\n",
    "        stock14_value =  float(values['-stock_14_val'])\n",
    "        stock14_name = str(values['-stock_14-']).upper()\n",
    "        stock15_value =  float(values['-stock_15_val'])\n",
    "        stock15_name = str(values['-stock_15-']).upper()\n",
    "        stock16_value =  float(values['-stock_16_val'])\n",
    "        stock16_name = str(values['-stock_16-']).upper()\n",
    "        stock17_value =  float(values['-stock_17_val'])\n",
    "        stock17_name = str(values['-stock_17-']).upper()\n",
    "        stock18_value =  float(values['-stock_18_val'])\n",
    "        stock18_name = str(values['-stock_18-']).upper()\n",
    "        stock19_value =  float(values['-stock_19_val'])\n",
    "        stock19_name = str(values['-stock_19-']).upper()\n",
    "        stock20_value =  float(values['-stock_20_val'])\n",
    "        stock20_name = str(values['-stock_20-']).upper()\n",
    "        check_value = stock1_value + stock2_value + stock3_value + stock4_value + stock5_value + stock6_value + stock7_value + stock8_value + stock9_value + stock10_value + stock11_value + stock12_value + stock13_value + stock14_value + stock15_value + stock16_value + stock17_value + stock18_value + stock19_value + stock20_value\n",
    "        #if statement to check if values input equals 100%\n",
    "        if check_value  == 100:\n",
    "            #check if stock input is 3 characters or not\n",
    "            if len(stock1_name) != 3 and stock1_value != 0:\n",
    "                sg.popup(f'Stock One Input {stock1_name} is not 3 letters')\n",
    "            elif len(stock2_name) != 3 and stock2_value != 0:\n",
    "                sg.popup(f'Stock Two Input {stock2_name} is not 3 letters')\n",
    "            elif len(stock3_name) != 3 and stock3_value != 0:\n",
    "                sg.popup(f'Stock Three Input {stock3_name} is not 3 letters')            \n",
    "            elif len(stock4_name) != 3 and stock4_value != 0:\n",
    "                sg.popup(f'Stock Four Input {stock4_name} is not 3 letters')     \n",
    "            elif len(stock5_name) != 3 and stock5_value != 0:\n",
    "                sg.popup(f'Stock Five Input {stock5_name} is not 3 letters')     \n",
    "            elif len(stock6_name) != 3 and stock6_value != 0:\n",
    "                sg.popup(f'Stock Six Input {stock6_name} is not 3 letters')     \n",
    "            elif len(stock7_name) != 3 and stock7_value != 0:\n",
    "                sg.popup(f'Stock Seven Input {stock7_name} is not 3 letters')     \n",
    "            elif len(stock8_name) != 3 and stock8_value != 0:\n",
    "                sg.popup(f'Stock Eight Input {stock8_name} is not 3 letters')     \n",
    "            elif len(stock9_name) != 3 and stock9_value != 0:\n",
    "                sg.popup(f'Stock Nine Input {stock9_name} is not 3 letters')     \n",
    "            elif len(stock10_name) != 3 and stock10_value != 0:\n",
    "                sg.popup(f'Stock Ten Input {stock10_name} is not 3 letters')            \n",
    "            elif len(stock11_name) != 3 and stock11_value != 0:\n",
    "                sg.popup(f'Stock 11 Input {stock11_name} is not 3 letters')     \n",
    "            elif len(stock12_name) != 3 and stock12_value != 0:\n",
    "                sg.popup(f'Stock 12 Input {stock12_name} is not 3 letters')     \n",
    "            elif len(stock13_name) != 3 and stock13_value != 0:\n",
    "                sg.popup(f'Stock 13 Input {stock13_name} is not 3 letters')     \n",
    "            elif len(stock14_name) != 3 and stock14_value != 0:\n",
    "                sg.popup(f'Stock 14 Input {stock14_name} is not 3 letters')     \n",
    "            elif len(stock15_name) != 3 and stock15_value != 0:\n",
    "                sg.popup(f'Stock 15 Input {stock15_name} is not 3 letters')     \n",
    "            elif len(stock16_name) != 3 and stock16_value != 0:\n",
    "                sg.popup(f'Stock 16 Input {stock16_name} is not 3 letters')    \n",
    "            elif len(stock17_name) != 3 and stock17_value != 0:\n",
    "                sg.popup(f'Stock 17 Input {stock17_name} is not 3 letters')            \n",
    "            elif len(stock18_name) != 3 and stock18_value != 0:\n",
    "                sg.popup(f'Stock 18 Input {stock18_name} is not 3 letters')     \n",
    "            elif len(stock19_name) != 3 and stock19_value != 0:\n",
    "                sg.popup(f'Stock 19 Input {stock19_name} is not 3 letters')     \n",
    "            elif len(stock20_name) != 3 and stock20_value != 0:\n",
    "                sg.popup(f'Stock 20 Input {stock20_name} is not 3 letters')                 \n",
    "                \n",
    "                \n",
    "            #if total weighting is 100% and stock inputs are 3 characters, then print this\n",
    "            else:            \n",
    "                sg.popup(f'Data received, program will now continue to run')\n",
    "                break\n",
    "        #if stock names are 3 characters but does not add up to 100% then print this\n",
    "        else:\n",
    "            sg.popup(f'Weighting of Stocks does not equal 100, it is currently {check_value}')\n",
    "\n",
    "#loop for cancel button of close window\n",
    "    if event == sg.WIN_CLOSED or event == 'Cancel': # if user closes window or clicks cancel\n",
    "        break\n",
    "\n",
    "window.close()\n"
   ]
  },
  {
   "cell_type": "code",
   "execution_count": 4,
   "id": "a5546fd4",
   "metadata": {},
   "outputs": [],
   "source": [
    "#code commented out as used for diagnosis\n",
    "\n",
    "#print(f'{stock1_name} at {stock1_value}')\n",
    "#print(f'{stock2_name} at {stock2_value}')\n",
    "#print(f'{stock3_name} at {stock3_value}')\n",
    "#print(f'{stock4_name} at {stock4_value}')\n",
    "#print(f'{stock5_name} at {stock5_value}')\n",
    "#print(f'{stock6_name} at {stock6_value}')\n",
    "#print(f'{stock7_name} at {stock7_value}')\n",
    "#print(f'{stock8_name} at {stock8_value}')\n",
    "#print(f'{stock9_name} at {stock9_value}')\n",
    "#print(f'{stock10_name} at {stock10_value}')\n",
    "#print(f'{stock11_name} at {stock11_value}')\n",
    "#print(f'{stock12_name} at {stock12_value}')\n",
    "#print(f'{stock13_name} at {stock13_value}')\n",
    "#print(f'{stock14_name} at {stock14_value}')\n",
    "#print(f'{stock15_name} at {stock15_value}')\n",
    "#print(f'{stock16_name} at {stock16_value}')\n",
    "#print(f'{stock17_name} at {stock17_value}')\n",
    "#print(f'{stock18_name} at {stock18_value}')\n",
    "#print(f'{stock19_name} at {stock19_value}')\n",
    "#print(f'{stock20_name} at {stock20_value}')\n",
    "#print(f'{investment_amount}')"
   ]
  },
  {
   "cell_type": "code",
   "execution_count": 5,
   "id": "237be41c",
   "metadata": {},
   "outputs": [],
   "source": [
    "#set blank column, index and values\n",
    "blank_column_names = [\"BLANK\"]\n",
    "blank_index_name = ['Date']\n",
    "blank_index_values = pd.date_range(start='1/1/2011', end='1/01/2021', freq='D')\n",
    "\n",
    "#obtain stock data from yahoo finance package, data clean and if user input is blank, create blank column of data\n",
    "if stock1_value > 0:\n",
    "\n",
    "    stock1_string = stock1_name + '.AX'\n",
    "    stock1 = yf.Ticker(stock1_string)\n",
    "\n",
    "    # get historical market data\n",
    "    df_stock1 = stock1.history(start = '2011-1-1', end='2021-1-1')\n",
    "    df_stock1.drop(columns=['Open', 'High', 'Low', 'Volume', 'Dividends', 'Stock Splits'],axis = 1, inplace=True)\n",
    "    df_stock1_return = df_stock1.pct_change().dropna().copy()\n",
    "    df_stock1_prices = df_stock1.dropna().rename(columns={\"Close\":stock1_name}).copy()\n",
    "    df_stock1_return.rename(columns={\"Close\":stock1_name}, inplace=True)\n",
    "\n",
    "else:\n",
    "    \n",
    "    df_stock1_return = pd.DataFrame(columns = blank_column_names, index = blank_index_values)\n",
    "    df_stock1_prices = pd.DataFrame(columns = blank_column_names, index = blank_index_values)"
   ]
  },
  {
   "cell_type": "code",
   "execution_count": 6,
   "id": "e2e90311",
   "metadata": {},
   "outputs": [],
   "source": [
    "#obtain stock data from yahoo finance package, data clean and if user input is blank, create blank column of data\n",
    "if stock2_value > 0:\n",
    "\n",
    "    stock2_string = stock2_name + '.AX'\n",
    "    stock2 = yf.Ticker(stock2_string)\n",
    "\n",
    "    # get historical market data\n",
    "    df_stock2 = stock2.history(start = '2011-1-1', end='2021-1-1')\n",
    "    df_stock2.drop(columns=['Open', 'High', 'Low', 'Volume', 'Dividends', 'Stock Splits'],axis = 1, inplace=True)\n",
    "    df_stock2_return = df_stock2.pct_change().dropna().copy()\n",
    "    df_stock2_prices = df_stock2.dropna().rename(columns={\"Close\":stock2_name}).copy()\n",
    "    df_stock2_return.rename(columns={\"Close\":stock2_name}, inplace=True)\n",
    "\n",
    "else:\n",
    "    \n",
    "    df_stock2_return = pd.DataFrame(columns = blank_column_names, index = blank_index_values)\n",
    "    df_stock2_prices = pd.DataFrame(columns = blank_column_names, index = blank_index_values)"
   ]
  },
  {
   "cell_type": "code",
   "execution_count": 7,
   "id": "2fa8edb9",
   "metadata": {},
   "outputs": [],
   "source": [
    "#obtain stock data from yahoo finance package, data clean and if user input is blank, create blank column of data\n",
    "if stock3_value > 0:\n",
    "\n",
    "    stock3_string = stock3_name + '.AX'\n",
    "    stock3 = yf.Ticker(stock3_string)\n",
    "\n",
    "    # get historical market data\n",
    "    df_stock3 = stock3.history(start = '2011-1-1', end='2021-1-1')\n",
    "    df_stock3.drop(columns=['Open', 'High', 'Low', 'Volume', 'Dividends', 'Stock Splits'],axis = 1, inplace=True)\n",
    "    df_stock3_return = df_stock3.pct_change().dropna().copy()\n",
    "    df_stock3_prices = df_stock3.dropna().rename(columns={\"Close\":stock3_name}).copy()\n",
    "    df_stock3_return.rename(columns={\"Close\":stock3_name}, inplace=True)\n",
    "\n",
    "else:\n",
    "    \n",
    "    df_stock3_return = pd.DataFrame(columns = blank_column_names, index = blank_index_values)\n",
    "    df_stock3_prices = pd.DataFrame(columns = blank_column_names, index = blank_index_values)\n",
    "    \n",
    "#df_stock3_return.head()"
   ]
  },
  {
   "cell_type": "code",
   "execution_count": 8,
   "id": "057698c8",
   "metadata": {},
   "outputs": [],
   "source": [
    "#obtain stock data from yahoo finance package, data clean and if user input is blank, create blank column of data\n",
    "if stock4_value > 0:\n",
    "\n",
    "    stock4_string = stock4_name + '.AX'\n",
    "    stock4 = yf.Ticker(stock4_string)\n",
    "\n",
    "    # get historical market data\n",
    "    df_stock4 = stock4.history(start = '2011-1-1', end='2021-1-1')\n",
    "    df_stock4.drop(columns=['Open', 'High', 'Low', 'Volume', 'Dividends', 'Stock Splits'],axis = 1, inplace=True)\n",
    "    df_stock4_return = df_stock4.pct_change().dropna().copy()\n",
    "    df_stock4_prices = df_stock4.dropna().rename(columns={\"Close\":stock4_name}).copy()\n",
    "    df_stock4_return.rename(columns={\"Close\":stock4_name}, inplace=True)\n",
    "\n",
    "else:\n",
    "    \n",
    "    df_stock4_return = pd.DataFrame(columns = blank_column_names, index = blank_index_values)\n",
    "    df_stock4_prices = pd.DataFrame(columns = blank_column_names, index = blank_index_values)\n",
    "    \n",
    "#df_stock4_return.head()"
   ]
  },
  {
   "cell_type": "code",
   "execution_count": 9,
   "id": "82be1e04",
   "metadata": {},
   "outputs": [],
   "source": [
    "#obtain stock data from yahoo finance package, data clean and if user input is blank, create blank column of data\n",
    "if stock5_value > 0:\n",
    "\n",
    "    stock5_string = stock5_name + '.AX'\n",
    "    stock5 = yf.Ticker(stock5_string)\n",
    "\n",
    "    # get historical market data\n",
    "    df_stock5 = stock5.history(start = '2011-1-1', end='2021-1-1')\n",
    "    df_stock5.drop(columns=['Open', 'High', 'Low', 'Volume', 'Dividends', 'Stock Splits'],axis = 1, inplace=True)\n",
    "    df_stock5_return = df_stock5.pct_change().dropna().copy()\n",
    "    df_stock5_prices = df_stock5.dropna().rename(columns={\"Close\":stock5_name}).copy()\n",
    "    df_stock5_return.rename(columns={\"Close\":stock5_name}, inplace=True)\n",
    "\n",
    "else:\n",
    "    \n",
    "    df_stock5_return = pd.DataFrame(columns = blank_column_names, index = blank_index_values)\n",
    "    df_stock5_prices = pd.DataFrame(columns = blank_column_names, index = blank_index_values)\n",
    "    \n",
    "#df_stock5_return.head()"
   ]
  },
  {
   "cell_type": "code",
   "execution_count": 10,
   "id": "324757f2",
   "metadata": {},
   "outputs": [],
   "source": [
    "#obtain stock data from yahoo finance package, data clean and if user input is blank, create blank column of data\n",
    "if stock6_value > 0:\n",
    "\n",
    "    stock6_string = stock6_name + '.AX'\n",
    "    stock6 = yf.Ticker(stock6_string)\n",
    "\n",
    "    # get historical market data\n",
    "    df_stock6 = stock6.history(start = '2011-1-1', end='2021-1-1')\n",
    "    df_stock6.drop(columns=['Open', 'High', 'Low', 'Volume', 'Dividends', 'Stock Splits'],axis = 1, inplace=True)\n",
    "    df_stock6_return = df_stock6.pct_change().dropna().copy()\n",
    "    df_stock6_prices = df_stock6.dropna().rename(columns={\"Close\":stock6_name}).copy()\n",
    "    df_stock6_return.rename(columns={\"Close\":stock6_name}, inplace=True)\n",
    "\n",
    "else:\n",
    "    \n",
    "    df_stock6_return = pd.DataFrame(columns = blank_column_names, index = blank_index_values)\n",
    "    df_stock6_prices = pd.DataFrame(columns = blank_column_names, index = blank_index_values)\n",
    "    \n",
    "#df_stock6_return.head()\n"
   ]
  },
  {
   "cell_type": "code",
   "execution_count": 11,
   "id": "966a1bd2",
   "metadata": {},
   "outputs": [],
   "source": [
    "#obtain stock data from yahoo finance package, data clean and if user input is blank, create blank column of data\n",
    "if stock7_value > 0:\n",
    "\n",
    "    stock7_string = stock7_name + '.AX'\n",
    "    stock7 = yf.Ticker(stock7_string)\n",
    "\n",
    "    # get historical market data\n",
    "    df_stock7 = stock7.history(start = '2011-1-1', end='2021-1-1')\n",
    "    df_stock7.drop(columns=['Open', 'High', 'Low', 'Volume', 'Dividends', 'Stock Splits'],axis = 1, inplace=True)\n",
    "    df_stock7_return = df_stock7.pct_change().dropna().copy()\n",
    "    df_stock7_prices = df_stock7.dropna().rename(columns={\"Close\":stock7_name}).copy()\n",
    "    df_stock7_return.rename(columns={\"Close\":stock7_name}, inplace=True)\n",
    "\n",
    "else:\n",
    "    \n",
    "    df_stock7_return = pd.DataFrame(columns = blank_column_names, index = blank_index_values)\n",
    "    df_stock7_prices = pd.DataFrame(columns = blank_column_names, index = blank_index_values)\n",
    "    \n",
    "#df_stock7_return.head()\n"
   ]
  },
  {
   "cell_type": "code",
   "execution_count": 12,
   "id": "5eb32819",
   "metadata": {},
   "outputs": [],
   "source": [
    "#obtain stock data from yahoo finance package, data clean and if user input is blank, create blank column of data\n",
    "if stock8_value > 0:\n",
    "\n",
    "    stock8_string = stock8_name + '.AX'\n",
    "    stock8 = yf.Ticker(stock8_string)\n",
    "\n",
    "    # get historical market data\n",
    "    df_stock8 = stock8.history(start = '2011-1-1', end='2021-1-1')\n",
    "    df_stock8.drop(columns=['Open', 'High', 'Low', 'Volume', 'Dividends', 'Stock Splits'],axis = 1, inplace=True)\n",
    "    df_stock8_return = df_stock8.pct_change().dropna().copy()\n",
    "    df_stock8_prices = df_stock8.dropna().rename(columns={\"Close\":stock8_name}).copy()\n",
    "    df_stock8_return.rename(columns={\"Close\":stock8_name}, inplace=True)\n",
    "\n",
    "else:\n",
    "    \n",
    "    df_stock8_return = pd.DataFrame(columns = blank_column_names, index = blank_index_values)\n",
    "    df_stock8_prices = pd.DataFrame(columns = blank_column_names, index = blank_index_values)\n",
    "    \n",
    "#df_stock8_return.head()\n"
   ]
  },
  {
   "cell_type": "code",
   "execution_count": 13,
   "id": "9fa5d780",
   "metadata": {},
   "outputs": [],
   "source": [
    "#obtain stock data from yahoo finance package, data clean and if user input is blank, create blank column of data\n",
    "if stock9_value > 0:\n",
    "\n",
    "    stock9_string = stock9_name + '.AX'\n",
    "    stock9 = yf.Ticker(stock9_string)\n",
    "\n",
    "    # get historical market data\n",
    "    df_stock9 = stock9.history(start = '2011-1-1', end='2021-1-1')\n",
    "    df_stock9.drop(columns=['Open', 'High', 'Low', 'Volume', 'Dividends', 'Stock Splits'],axis = 1, inplace=True)\n",
    "    df_stock9_return = df_stock9.pct_change().dropna().copy()\n",
    "    df_stock9_prices = df_stock9.dropna().rename(columns={\"Close\":stock9_name}).copy()\n",
    "    df_stock9_return.rename(columns={\"Close\":stock9_name}, inplace=True)\n",
    "\n",
    "else:\n",
    "    \n",
    "    df_stock9_return = pd.DataFrame(columns = blank_column_names, index = blank_index_values)\n",
    "    df_stock9_prices = pd.DataFrame(columns = blank_column_names, index = blank_index_values)\n",
    "    \n",
    "#df_stock9_return.head()\n"
   ]
  },
  {
   "cell_type": "code",
   "execution_count": 14,
   "id": "f5e64a63",
   "metadata": {},
   "outputs": [],
   "source": [
    "#obtain stock data from yahoo finance package, data clean and if user input is blank, create blank column of data\n",
    "if stock10_value > 0:\n",
    "\n",
    "    stock10_string = stock10_name + '.AX'\n",
    "    stock10 = yf.Ticker(stock10_string)\n",
    "\n",
    "    # get historical market data\n",
    "    df_stock10 = stock10.history(start = '2011-1-1', end='2021-1-1')\n",
    "    df_stock10.drop(columns=['Open', 'High', 'Low', 'Volume', 'Dividends', 'Stock Splits'],axis = 1, inplace=True)\n",
    "    df_stock10_return = df_stock10.pct_change().dropna().copy()\n",
    "    df_stock10_prices = df_stock10.dropna().rename(columns={\"Close\":stock10_name}).copy()\n",
    "    df_stock10_return.rename(columns={\"Close\":stock10_name}, inplace=True)\n",
    "\n",
    "else:\n",
    "    \n",
    "    df_stock10_return = pd.DataFrame(columns = blank_column_names, index = blank_index_values)\n",
    "    df_stock10_prices = pd.DataFrame(columns = blank_column_names, index = blank_index_values)\n",
    "    \n",
    "#df_stock10_return.head()\n"
   ]
  },
  {
   "cell_type": "code",
   "execution_count": 15,
   "id": "22177d24",
   "metadata": {},
   "outputs": [],
   "source": [
    "#obtain stock data from yahoo finance package, data clean and if user input is blank, create blank column of data\n",
    "if stock11_value > 0:\n",
    "\n",
    "    stock11_string = stock11_name + '.AX'\n",
    "    stock11 = yf.Ticker(stock11_string)\n",
    "\n",
    "    # get historical market data\n",
    "    df_stock11 = stock11.history(start = '2011-1-1', end='2021-1-1')\n",
    "    df_stock11.drop(columns=['Open', 'High', 'Low', 'Volume', 'Dividends', 'Stock Splits'],axis = 1, inplace=True)\n",
    "    df_stock11_return = df_stock11.pct_change().dropna().copy()\n",
    "    df_stock11_prices = df_stock11.dropna().rename(columns={\"Close\":stock11_name}).copy()\n",
    "    df_stock11_return.rename(columns={\"Close\":stock11_name}, inplace=True)\n",
    "\n",
    "else:\n",
    "    \n",
    "    df_stock11_return = pd.DataFrame(columns = blank_column_names, index = blank_index_values)\n",
    "    df_stock11_prices = pd.DataFrame(columns = blank_column_names, index = blank_index_values)\n",
    "    \n",
    "#df_stock11_return.head()\n"
   ]
  },
  {
   "cell_type": "code",
   "execution_count": 16,
   "id": "07a989b9",
   "metadata": {},
   "outputs": [],
   "source": [
    "#obtain stock data from yahoo finance package, data clean and if user input is blank, create blank column of data\n",
    "if stock12_value > 0:\n",
    "\n",
    "    stock12_string = stock12_name + '.AX'\n",
    "    stock12 = yf.Ticker(stock12_string)\n",
    "\n",
    "    # get historical market data\n",
    "    df_stock12 = stock12.history(start = '2011-1-1', end='2021-1-1')\n",
    "    df_stock12.drop(columns=['Open', 'High', 'Low', 'Volume', 'Dividends', 'Stock Splits'],axis = 1, inplace=True)\n",
    "    df_stock12_return = df_stock12.pct_change().dropna().copy()\n",
    "    df_stock12_prices = df_stock12.dropna().rename(columns={\"Close\":stock12_name}).copy()\n",
    "    df_stock12_return.rename(columns={\"Close\":stock12_name}, inplace=True)\n",
    "\n",
    "else:\n",
    "    \n",
    "    df_stock12_return = pd.DataFrame(columns = blank_column_names, index = blank_index_values)\n",
    "    df_stock12_prices = pd.DataFrame(columns = blank_column_names, index = blank_index_values)\n",
    "    \n",
    "#df_stock12_return.head()\n"
   ]
  },
  {
   "cell_type": "code",
   "execution_count": 17,
   "id": "c43b95bf",
   "metadata": {},
   "outputs": [],
   "source": [
    "#obtain stock data from yahoo finance package, data clean and if user input is blank, create blank column of data\n",
    "if stock13_value > 0:\n",
    "\n",
    "    stock13_string = stock13_name + '.AX'\n",
    "    stock13 = yf.Ticker(stock13_string)\n",
    "\n",
    "    # get historical market data\n",
    "    df_stock13 = stock13.history(start = '2011-1-1', end='2021-1-1')\n",
    "    df_stock13.drop(columns=['Open', 'High', 'Low', 'Volume', 'Dividends', 'Stock Splits'],axis = 1, inplace=True)\n",
    "    df_stock13_return = df_stock13.pct_change().dropna().copy()\n",
    "    df_stock13_prices = df_stock13.dropna().rename(columns={\"Close\":stock13_name}).copy()\n",
    "    df_stock13_return.rename(columns={\"Close\":stock13_name}, inplace=True)\n",
    "\n",
    "else:\n",
    "    \n",
    "    df_stock13_return = pd.DataFrame(columns = blank_column_names, index = blank_index_values)\n",
    "    df_stock13_prices = pd.DataFrame(columns = blank_column_names, index = blank_index_values)\n",
    "    \n",
    "#df_stock13_return.head()\n"
   ]
  },
  {
   "cell_type": "code",
   "execution_count": 18,
   "id": "a690655b",
   "metadata": {},
   "outputs": [],
   "source": [
    "#obtain stock data from yahoo finance package, data clean and if user input is blank, create blank column of data\n",
    "if stock14_value > 0:\n",
    "\n",
    "    stock14_string = stock14_name + '.AX'\n",
    "    stock14 = yf.Ticker(stock14_string)\n",
    "\n",
    "    # get historical market data\n",
    "    df_stock14 = stock14.history(start = '2011-1-1', end='2021-1-1')\n",
    "    df_stock14.drop(columns=['Open', 'High', 'Low', 'Volume', 'Dividends', 'Stock Splits'],axis = 1, inplace=True)\n",
    "    df_stock14_return = df_stock14.pct_change().dropna().copy()\n",
    "    df_stock14_prices = df_stock14.dropna().rename(columns={\"Close\":stock14_name}).copy()\n",
    "    df_stock14_return.rename(columns={\"Close\":stock14_name}, inplace=True)\n",
    "\n",
    "else:\n",
    "    \n",
    "    df_stock14_return = pd.DataFrame(columns = blank_column_names, index = blank_index_values)\n",
    "    df_stock14_prices = pd.DataFrame(columns = blank_column_names, index = blank_index_values)\n",
    "    \n",
    "#df_stock14_return.head()\n"
   ]
  },
  {
   "cell_type": "code",
   "execution_count": 19,
   "id": "7cf2c053",
   "metadata": {},
   "outputs": [],
   "source": [
    "#obtain stock data from yahoo finance package, data clean and if user input is blank, create blank column of data\n",
    "if stock15_value > 0:\n",
    "\n",
    "    stock15_string = stock15_name + '.AX'\n",
    "    stock15 = yf.Ticker(stock15_string)\n",
    "\n",
    "    # get historical market data\n",
    "    df_stock15 = stock15.history(start = '2011-1-1', end='2021-1-1')\n",
    "    df_stock15.drop(columns=['Open', 'High', 'Low', 'Volume', 'Dividends', 'Stock Splits'],axis = 1, inplace=True)\n",
    "    df_stock15_return = df_stock15.pct_change().dropna().copy()\n",
    "    df_stock15_prices = df_stock15.dropna().rename(columns={\"Close\":stock15_name}).copy()\n",
    "    df_stock15_return.rename(columns={\"Close\":stock15_name}, inplace=True)\n",
    "\n",
    "else:\n",
    "    \n",
    "    df_stock15_return = pd.DataFrame(columns = blank_column_names, index = blank_index_values)\n",
    "    df_stock15_prices = pd.DataFrame(columns = blank_column_names, index = blank_index_values)\n",
    "    \n",
    "#df_stock15_return.head()\n"
   ]
  },
  {
   "cell_type": "code",
   "execution_count": 20,
   "id": "08094389",
   "metadata": {},
   "outputs": [],
   "source": [
    "#obtain stock data from yahoo finance package, data clean and if user input is blank, create blank column of data\n",
    "if stock16_value > 0:\n",
    "\n",
    "    stock16_string = stock16_name + '.AX'\n",
    "    stock16 = yf.Ticker(stock16_string)\n",
    "\n",
    "    # get historical market data\n",
    "    df_stock16 = stock16.history(start = '2011-1-1', end='2021-1-1')\n",
    "    df_stock16.drop(columns=['Open', 'High', 'Low', 'Volume', 'Dividends', 'Stock Splits'],axis = 1, inplace=True)\n",
    "    df_stock16_return = df_stock16.pct_change().dropna().copy()\n",
    "    df_stock16_prices = df_stock16.dropna().rename(columns={\"Close\":stock16_name}).copy()\n",
    "    df_stock16_return.rename(columns={\"Close\":stock16_name}, inplace=True)\n",
    "\n",
    "else:\n",
    "    \n",
    "    df_stock16_return = pd.DataFrame(columns = blank_column_names, index = blank_index_values)\n",
    "    df_stock16_prices = pd.DataFrame(columns = blank_column_names, index = blank_index_values)\n",
    "    \n",
    "#df_stock16_return.head()\n"
   ]
  },
  {
   "cell_type": "code",
   "execution_count": 21,
   "id": "2f777b3e",
   "metadata": {},
   "outputs": [],
   "source": [
    "#obtain stock data from yahoo finance package, data clean and if user input is blank, create blank column of data\n",
    "if stock17_value > 0:\n",
    "\n",
    "    stock17_string = stock17_name + '.AX'\n",
    "    stock17 = yf.Ticker(stock17_string)\n",
    "\n",
    "    # get historical market data\n",
    "    df_stock17 = stock17.history(start = '2011-1-1', end='2021-1-1')\n",
    "    df_stock17.drop(columns=['Open', 'High', 'Low', 'Volume', 'Dividends', 'Stock Splits'],axis = 1, inplace=True)\n",
    "    df_stock17_return = df_stock17.pct_change().dropna().copy()\n",
    "    df_stock17_prices = df_stock17.dropna().rename(columns={\"Close\":stock17_name}).copy()\n",
    "    df_stock17_return.rename(columns={\"Close\":stock17_name}, inplace=True)\n",
    "\n",
    "else:\n",
    "    \n",
    "    df_stock17_return = pd.DataFrame(columns = blank_column_names, index = blank_index_values)\n",
    "    df_stock17_prices = pd.DataFrame(columns = blank_column_names, index = blank_index_values)\n",
    "    \n",
    "#df_stock17_return.head()\n"
   ]
  },
  {
   "cell_type": "code",
   "execution_count": 22,
   "id": "b2bc9eea",
   "metadata": {},
   "outputs": [],
   "source": [
    "#obtain stock data from yahoo finance package, data clean and if user input is blank, create blank column of data\n",
    "if stock18_value > 0:\n",
    "\n",
    "    stock18_string = stock18_name + '.AX'\n",
    "    stock18 = yf.Ticker(stock18_string)\n",
    "\n",
    "    # get historical market data\n",
    "    df_stock18 = stock18.history(start = '2011-1-1', end='2021-1-1')\n",
    "    df_stock18.drop(columns=['Open', 'High', 'Low', 'Volume', 'Dividends', 'Stock Splits'],axis = 1, inplace=True)\n",
    "    df_stock18_return = df_stock18.pct_change().dropna().copy()\n",
    "    df_stock18_prices = df_stock18.dropna().rename(columns={\"Close\":stock18_name}).copy()\n",
    "    df_stock18_return.rename(columns={\"Close\":stock18_name}, inplace=True)\n",
    "\n",
    "else:\n",
    "    \n",
    "    df_stock18_return = pd.DataFrame(columns = blank_column_names, index = blank_index_values)\n",
    "    df_stock18_prices = pd.DataFrame(columns = blank_column_names, index = blank_index_values)\n",
    "    \n",
    "#df_stock18_return.head()\n"
   ]
  },
  {
   "cell_type": "code",
   "execution_count": 23,
   "id": "a654bbf3",
   "metadata": {},
   "outputs": [],
   "source": [
    "#obtain stock data from yahoo finance package, data clean and if user input is blank, create blank column of data\n",
    "if stock19_value > 0:\n",
    "\n",
    "    stock19_string = stock19_name + '.AX'\n",
    "    stock19 = yf.Ticker(stock19_string)\n",
    "\n",
    "    # get historical market data\n",
    "    df_stock19 = stock19.history(start = '2011-1-1', end='2021-1-1')\n",
    "    df_stock19.drop(columns=['Open', 'High', 'Low', 'Volume', 'Dividends', 'Stock Splits'],axis = 1, inplace=True)\n",
    "    df_stock19_return = df_stock19.pct_change().dropna().copy()\n",
    "    df_stock19_prices = df_stock19.dropna().rename(columns={\"Close\":stock19_name}).copy()\n",
    "    df_stock19_return.rename(columns={\"Close\":stock19_name}, inplace=True)\n",
    "\n",
    "else:\n",
    "    \n",
    "    df_stock19_return = pd.DataFrame(columns = blank_column_names, index = blank_index_values)\n",
    "    df_stock19_prices = pd.DataFrame(columns = blank_column_names, index = blank_index_values)\n",
    "    \n",
    "#df_stock19_return.head()\n"
   ]
  },
  {
   "cell_type": "code",
   "execution_count": 24,
   "id": "c57cc38e",
   "metadata": {},
   "outputs": [],
   "source": [
    "#obtain stock data from yahoo finance package, data clean and if user input is blank, create blank column of data\n",
    "if stock20_value > 0:\n",
    "\n",
    "    stock20_string = stock20_name + '.AX'\n",
    "    stock20 = yf.Ticker(stock20_string)\n",
    "\n",
    "    # get historical market data\n",
    "    df_stock20 = stock20.history(start = '2011-1-1', end='2021-1-1')\n",
    "    df_stock20.drop(columns=['Open', 'High', 'Low', 'Volume', 'Dividends', 'Stock Splits'],axis = 1, inplace=True)\n",
    "    df_stock20_return = df_stock20.pct_change().dropna().copy()\n",
    "    df_stock20_prices = df_stock20.dropna().rename(columns={\"Close\":stock20_name}).copy()\n",
    "    df_stock20_return.rename(columns={\"Close\":stock20_name}, inplace=True)\n",
    "\n",
    "else:\n",
    "    \n",
    "    df_stock20_return = pd.DataFrame(columns = blank_column_names, index = blank_index_values)\n",
    "    df_stock20_prices = pd.DataFrame(columns = blank_column_names, index = blank_index_values)\n",
    "    \n",
    "#df_stock20_return.head()\n"
   ]
  },
  {
   "cell_type": "code",
   "execution_count": 25,
   "id": "6a426b02",
   "metadata": {},
   "outputs": [],
   "source": [
    "#Combine stock data\n",
    "Portfolio = pd.concat([df_stock1_return, df_stock2_return, df_stock3_return, df_stock4_return, df_stock5_return,\n",
    "                        df_stock6_return, df_stock7_return, df_stock8_return, df_stock9_return, df_stock10_return,\n",
    "                        df_stock11_return, df_stock12_return, df_stock13_return, df_stock14_return, df_stock15_return,\n",
    "                        df_stock16_return, df_stock17_return, df_stock18_return, df_stock19_return, df_stock20_return\n",
    "                      ], axis=\"columns\", join=\"inner\").fillna(0)\n",
    "Portfolio.index.name = 'Date'"
   ]
  },
  {
   "cell_type": "code",
   "execution_count": 26,
   "id": "12db979a",
   "metadata": {},
   "outputs": [],
   "source": [
    "#Portfolio.head()"
   ]
  },
  {
   "cell_type": "code",
   "execution_count": 27,
   "id": "6104d85f",
   "metadata": {},
   "outputs": [],
   "source": [
    "#obtain stock weights and name from user inputs\n",
    "user_weights = [stock1_value/100, stock2_value/100, stock3_value/100, stock4_value/100, stock5_value/100,\n",
    "          stock6_value/100, stock7_value/100, stock8_value/100, stock9_value/100, stock10_value/100,\n",
    "          stock11_value/100, stock12_value/100, stock13_value/100, stock14_value/100, stock15_value/100,\n",
    "          stock16_value/100, stock17_value/100, stock18_value/100, stock19_value/100, stock20_value/100\n",
    "          ]\n",
    "stock_name = [stock1_name, stock2_name, stock3_name, stock4_name, stock5_name,\n",
    "          stock6_name, stock7_name, stock8_name, stock9_name, stock10_name,\n",
    "          stock11_name, stock12_name, stock13_name, stock14_name, stock15_name,\n",
    "          stock16_name, stock17_name, stock18_name, stock19_name, stock20_name\n",
    "          ]"
   ]
  },
  {
   "cell_type": "code",
   "execution_count": 28,
   "id": "e7b8cb87",
   "metadata": {},
   "outputs": [],
   "source": [
    "#calculate returns\n",
    "portfolio_returns = Portfolio.dot(user_weights)\n",
    "#portfolio_returns.head()"
   ]
  },
  {
   "cell_type": "code",
   "execution_count": 29,
   "id": "d5a7f13a",
   "metadata": {},
   "outputs": [],
   "source": [
    "portfolio_cum_returns = (portfolio_returns + 1).cumprod()"
   ]
  },
  {
   "cell_type": "code",
   "execution_count": 30,
   "id": "9f27298b",
   "metadata": {},
   "outputs": [],
   "source": [
    "#portfolio_cum_returns.plot()"
   ]
  },
  {
   "cell_type": "code",
   "execution_count": 31,
   "id": "6174ea53",
   "metadata": {},
   "outputs": [],
   "source": [
    "#portfolio_cum_returns.tail()"
   ]
  },
  {
   "cell_type": "code",
   "execution_count": 32,
   "id": "64af3d3f",
   "metadata": {},
   "outputs": [],
   "source": [
    "investment_worth = portfolio_cum_returns * investment_amount\n",
    "final_investment_worth = investment_worth.iloc[-1]"
   ]
  },
  {
   "cell_type": "code",
   "execution_count": 33,
   "id": "e5467491",
   "metadata": {},
   "outputs": [],
   "source": [
    "#final_investment_worth\n"
   ]
  },
  {
   "cell_type": "code",
   "execution_count": 34,
   "id": "b125be24",
   "metadata": {},
   "outputs": [
    {
     "name": "stdout",
     "output_type": "stream",
     "text": [
      "User Input Expected annual return:12.0%\n",
      "User Input Annual volatility/risk:18.0%\n",
      "User Input Annual variance:3.0%\n"
     ]
    }
   ],
   "source": [
    "# Calaculate the portfolio variance\n",
    "cov_matrix_annual = Portfolio.cov()* 252\n",
    "cov_matrix_annual\n",
    "\n",
    "#Calaculate the portfolio variance\n",
    "port_variance = np.dot(user_weights, np.dot(cov_matrix_annual, user_weights))\n",
    "port_variance\n",
    "\n",
    "#Calaculate the portfolio volatility (risk)\n",
    "port_volatility = np.sqrt(port_variance)\n",
    "port_volatility\n",
    "\n",
    "#Calaculate the annual portfolio return\n",
    "portfolio_simple_annual_return = np.sum(Portfolio.mean()*user_weights)*252\n",
    "portfolio_simple_annual_return\n",
    "\n",
    "# show the expected annual return, volatility(risk), and variance \n",
    "\n",
    "percent_var = str(round(port_variance, 2)*100)+'%'\n",
    "percent_vola = str(round(port_volatility, 2)*100)+'%'\n",
    "percent_ret = str(round(portfolio_simple_annual_return, 2)*100)+'%'\n",
    "\n",
    "print('User Input Expected annual return:' +percent_ret)\n",
    "print('User Input Annual volatility/risk:'+percent_vola)\n",
    "print('User Input Annual variance:' + percent_var)"
   ]
  },
  {
   "cell_type": "markdown",
   "id": "692a52ec",
   "metadata": {},
   "source": [
    "# Optimum Portfolio Analysis  "
   ]
  },
  {
   "cell_type": "code",
   "execution_count": 35,
   "id": "ea20633a",
   "metadata": {},
   "outputs": [],
   "source": [
    "#Set dataframe to be used for optimum portfolio analysis\n",
    "Portfolio2 = pd.concat([df_stock1_prices, df_stock2_prices, df_stock3_prices, df_stock4_prices, df_stock5_prices,\n",
    "                        df_stock6_prices, df_stock7_prices, df_stock8_prices, df_stock9_prices, df_stock10_prices,\n",
    "                        df_stock11_prices, df_stock12_prices, df_stock13_prices, df_stock14_prices, df_stock15_prices,\n",
    "                        df_stock16_prices, df_stock17_prices, df_stock18_prices, df_stock19_prices, df_stock20_prices\n",
    "                      ], axis=\"columns\", join=\"inner\").fillna(0)\n",
    "Portfolio2.index.name = 'Date'\n",
    "#Portfolio2"
   ]
  },
  {
   "cell_type": "code",
   "execution_count": 36,
   "id": "e81c96b1",
   "metadata": {},
   "outputs": [],
   "source": [
    "# cleaning data\n",
    "optimised_portfolio_df = Portfolio2.drop(['BLANK'], axis=1).dropna().copy()\n",
    "#optimised_portfolio_df.head()"
   ]
  },
  {
   "cell_type": "code",
   "execution_count": 37,
   "id": "f682b9c5",
   "metadata": {},
   "outputs": [
    {
     "name": "stdout",
     "output_type": "stream",
     "text": [
      "OrderedDict([('ANZ', 0.0), ('CBA', 0.1365), ('WES', 0.8635), ('WOW', 0.0)])\n",
      "Expected annual return: 13.9%\n",
      "Annual volatility: 18.6%\n",
      "Sharpe Ratio: 0.64\n"
     ]
    },
    {
     "data": {
      "text/plain": [
       "(0.13934579271832542, 0.18610321661864002, 0.6412881780699528)"
      ]
     },
     "execution_count": 37,
     "metadata": {},
     "output_type": "execute_result"
    }
   ],
   "source": [
    "# Optimize the portfolio \n",
    "# Using pyportfolioOpt package (pip install pyportfolio)\n",
    "\n",
    "# Caluculate the expected anualized returns and sample covariance\n",
    "\n",
    "mu = expected_returns.mean_historical_return(optimised_portfolio_df)   #Average ecpected return base on the historical data \n",
    "S = risk_models.sample_cov(optimised_portfolio_df)                     #Sample covariance \n",
    "\n",
    "\n",
    "# Optimized for maximun sharpe ratio \n",
    "ef = EfficientFrontier(mu, S)   #create the Efficient Frontier Object\n",
    "\n",
    "weights = ef.max_sharpe()\n",
    "\n",
    "cleaned_weights = ef.clean_weights()  # cleaning data \n",
    "print(cleaned_weights)\n",
    "\n",
    "ef.portfolio_performance(verbose=True)"
   ]
  },
  {
   "cell_type": "code",
   "execution_count": 38,
   "id": "c48321c5",
   "metadata": {},
   "outputs": [
    {
     "name": "stdout",
     "output_type": "stream",
     "text": [
      "Discrete allocation {'CBA': 17, 'WES': 174}\n",
      "Funds Remaining: $ 5.420845031738281\n"
     ]
    }
   ],
   "source": [
    "# Assets Allocation\n",
    "# pip install pulp\n",
    "# pip install cvxopt (solver GLPK_MI for assets allocation)\n",
    "\n",
    "# Get the discrete allocation of each share per share per stock \n",
    "from pypfopt.discrete_allocation import DiscreteAllocation, get_latest_prices\n",
    "\n",
    "initial_investment = investment_amount\n",
    "latest_prices = get_latest_prices(optimised_portfolio_df)\n",
    "weights_optimised = cleaned_weights \n",
    "\n",
    "da = DiscreteAllocation(weights_optimised, latest_prices, total_portfolio_value = initial_investment)\n",
    "allocation, leftover = da.lp_portfolio()\n",
    "print('Discrete allocation', allocation)\n",
    "print('Funds Remaining: $' , leftover)"
   ]
  },
  {
   "cell_type": "code",
   "execution_count": 39,
   "id": "95bbec86",
   "metadata": {},
   "outputs": [
    {
     "data": {
      "image/png": "[encoded data removed]",
      "text/plain": [
       "<Figure size 432x288 with 1 Axes>"
      ]
     },
     "metadata": {
      "needs_background": "light"
     },
     "output_type": "display_data"
    }
   ],
   "source": [
    "#pip install cvxpy (solver)\n",
    "\n",
    "\n",
    "# Plotting Efficient Frontier\n",
    "\n",
    "mu = expected_returns.mean_historical_return(optimised_portfolio_df)   #Average ecpected return base on the historical data \n",
    "S = risk_models.sample_cov(optimised_portfolio_df)                     #Sample covariance \n",
    "\n",
    "\n",
    "ef = EfficientFrontier(mu, S)     #Efficient Frontier Object \n",
    "fig, ax = plt.subplots()\n",
    "plotting.plot_efficient_frontier(ef, ax=ax, show_assets=False)\n",
    "\n",
    "# Find the tangency portfolio\n",
    "ef.max_sharpe()\n",
    "ret_tangent, std_tangent, _ = ef.portfolio_performance()\n",
    "ax.scatter(std_tangent, ret_tangent, marker=\"*\", s=100, c=\"r\", label=\"Max Sharpe\")\n",
    "\n",
    "# Generate random portfolios\n",
    "n_samples = 100\n",
    "w = np.random.dirichlet(np.ones(len(mu)), n_samples)\n",
    "rets = w.dot(mu)\n",
    "stds = np.sqrt(np.diag(w @ S @ w.T))\n",
    "sharpes = rets / stds\n",
    "ax.scatter(stds, rets, marker=\".\", c=sharpes, cmap=\"viridis_r\")\n",
    "\n",
    "# Output\n",
    "ax.set_title(\"Efficient Frontier with random portfolios\")\n",
    "ax.legend()\n",
    "plt.tight_layout()\n",
    "plt.savefig(\"ef_scatter.png\",dpi=200)\n",
    "plt.show()"
   ]
  },
  {
   "cell_type": "code",
   "execution_count": 40,
   "id": "2c0950cf",
   "metadata": {},
   "outputs": [],
   "source": [
    "type(weights_optimised)\n",
    "weights_optimised_list = list(weights_optimised.values())\n",
    "#print(weights_optimised_list)"
   ]
  },
  {
   "cell_type": "code",
   "execution_count": 41,
   "id": "e5460240",
   "metadata": {},
   "outputs": [],
   "source": [
    "#calcualte returns from optimised portfolio\n",
    "optimised_portfolio_daily_returns = optimised_portfolio_df.pct_change()\n",
    "\n",
    "optimised_portfolio_returns = optimised_portfolio_daily_returns.dot(weights_optimised_list)\n",
    "#optimised_portfolio_returns.head()\n"
   ]
  },
  {
   "cell_type": "code",
   "execution_count": 45,
   "id": "5d00b917",
   "metadata": {},
   "outputs": [],
   "source": [
    "optimised_cumulative_returns = (optimised_portfolio_returns + 1).cumprod()-1\n",
    "#optimised_cumulative_returns.plot()"
   ]
  },
  {
   "cell_type": "code",
   "execution_count": 46,
   "id": "a3972354",
   "metadata": {},
   "outputs": [],
   "source": [
    "#optimised_cumulative_returns.tail()"
   ]
  },
  {
   "cell_type": "code",
   "execution_count": 47,
   "id": "0882aecf",
   "metadata": {},
   "outputs": [],
   "source": [
    "#calculate investment worth at end of 10 years\n",
    "investment_worth_p2 = optimised_cumulative_returns * investment_amount + investment_amount\n",
    "\n",
    "p2_investment_worth = investment_worth_p2.iloc[-1]\n",
    "#print(p2_investment_worth)"
   ]
  },
  {
   "cell_type": "markdown",
   "id": "d62ef8dd",
   "metadata": {},
   "source": [
    "# Interest Rate Section"
   ]
  },
  {
   "cell_type": "code",
   "execution_count": 48,
   "id": "14ee3a55",
   "metadata": {},
   "outputs": [],
   "source": [
    "#obtain interest rate data from quandl\n",
    "interestrate = quandl.get(\"RBA/F01_1\", start_date=\"2011-01-01\", end_date=\"2021-01-01\")\n",
    "#interestrate.tail()\n",
    "\n",
    "#calculate month by month cash rate\n",
    "month_by_month_cashrate = interestrate['Cash Rate Target. Units: Per cent; Series ID: FIRMMCRT']\n",
    "month_by_month_cashrate_df = pd.DataFrame(month_by_month_cashrate)\n",
    "month_by_month_cashrate_df.rename(columns = {'Cash Rate Target. Units: Per cent; Series ID: FIRMMCRT':'RBA_Rate'}, inplace = True)\n",
    "\n",
    "#month_by_month_cashrate_df.tail(10)"
   ]
  },
  {
   "cell_type": "code",
   "execution_count": 49,
   "id": "947bb210",
   "metadata": {},
   "outputs": [
    {
     "data": {
      "text/html": [
       "<div>\n",
       "<style scoped>\n",
       "    .dataframe tbody tr th:only-of-type {\n",
       "        vertical-align: middle;\n",
       "    }\n",
       "\n",
       "    .dataframe tbody tr th {\n",
       "        vertical-align: top;\n",
       "    }\n",
       "\n",
       "    .dataframe thead th {\n",
       "        text-align: right;\n",
       "    }\n",
       "</style>\n",
       "<table border=\"1\" class=\"dataframe\">\n",
       "  <thead>\n",
       "    <tr style=\"text-align: right;\">\n",
       "      <th></th>\n",
       "      <th>RBA_Rate</th>\n",
       "    </tr>\n",
       "  </thead>\n",
       "  <tbody>\n",
       "    <tr>\n",
       "      <th>count</th>\n",
       "      <td>120.000000</td>\n",
       "    </tr>\n",
       "    <tr>\n",
       "      <th>mean</th>\n",
       "      <td>2.196438</td>\n",
       "    </tr>\n",
       "    <tr>\n",
       "      <th>std</th>\n",
       "      <td>1.232845</td>\n",
       "    </tr>\n",
       "    <tr>\n",
       "      <th>min</th>\n",
       "      <td>0.100000</td>\n",
       "    </tr>\n",
       "    <tr>\n",
       "      <th>25%</th>\n",
       "      <td>1.500000</td>\n",
       "    </tr>\n",
       "    <tr>\n",
       "      <th>50%</th>\n",
       "      <td>2.000000</td>\n",
       "    </tr>\n",
       "    <tr>\n",
       "      <th>75%</th>\n",
       "      <td>2.750000</td>\n",
       "    </tr>\n",
       "    <tr>\n",
       "      <th>max</th>\n",
       "      <td>4.750000</td>\n",
       "    </tr>\n",
       "  </tbody>\n",
       "</table>\n",
       "</div>"
      ],
      "text/plain": [
       "         RBA_Rate\n",
       "count  120.000000\n",
       "mean     2.196438\n",
       "std      1.232845\n",
       "min      0.100000\n",
       "25%      1.500000\n",
       "50%      2.000000\n",
       "75%      2.750000\n",
       "max      4.750000"
      ]
     },
     "execution_count": 49,
     "metadata": {},
     "output_type": "execute_result"
    }
   ],
   "source": [
    "month_by_month_cashrate_df.describe()"
   ]
  },
  {
   "cell_type": "code",
   "execution_count": 50,
   "id": "89c00d64",
   "metadata": {},
   "outputs": [],
   "source": [
    "# Program to calculate compound interest\n",
    "\n",
    "# First calculate the compound interest for principal using formula: A = P (1 + r/n)**(nt)\n",
    "# r = annual interest rate\n",
    "# n = number of compounds per period (usually in months)\n",
    "# t = time\n",
    "\n",
    "def compundedinterest (interestrate_input):\n",
    "\tprincipal = investment_amount\n",
    "\tannualrate_pct = interestrate_input\n",
    "\tnumberoftimescompounded = 12\n",
    "\tyears = 10\n",
    "\tannualrate = (float(annualrate_pct))/100\n",
    "\t#print (\"The principal entered is: \", principal)\n",
    "\t#print (\"The annual rate in decimal form is: \", annualrate)\n",
    "\t#print (\"The number of times it will be compounded per year is: \", numberoftimescompounded)\n",
    "\t#print (\"The number of years it will be compounded: \", years)\n",
    "\t# calculate compound interest plus the principal\n",
    "\tpreliminarynumber = (1 + (annualrate/numberoftimescompounded))\n",
    "\traisedtopower = (numberoftimescompounded * years)\n",
    "\ttotalamount = principal * (preliminarynumber**raisedtopower)\n",
    "\t#totalamount = round((totalamount,2))\n",
    "\treturn totalamount\n",
    "\n",
    "#print(f\"{investment_amount} deposited in 10 years will equal to:\")\n",
    "\n",
    "Mean_Principal_plus_Interest = compundedinterest (month_by_month_cashrate_df.mean())\n",
    "#print(f\"   Using Historical Mean_Principal_plus_Interest: {Mean_Principal_plus_Interest}\")\n",
    "\n",
    "Min_Principal_plus_Interest = compundedinterest (month_by_month_cashrate_df.min())\n",
    "#print(f\"   Using MINIMUM_Principal_plus_Interest: {Min_Principal_plus_Interest}\")\n",
    "\n",
    "Max_Principal_plus_Interest = compundedinterest (month_by_month_cashrate_df.max())\n",
    "#print(f\"   Using MAXIMUM_Principal_plus_Interest: {Max_Principal_plus_Interest}\")\n",
    "\n"
   ]
  },
  {
   "cell_type": "code",
   "execution_count": 51,
   "id": "4e7915d3",
   "metadata": {},
   "outputs": [],
   "source": [
    "#print(Mean_Principal_plus_Interest)\n",
    "#print(final_investment_worth)"
   ]
  },
  {
   "cell_type": "markdown",
   "id": "3a91c63e",
   "metadata": {},
   "source": [
    "# Crypto Portfolio Analysis  "
   ]
  },
  {
   "cell_type": "code",
   "execution_count": 52,
   "id": "af47940a",
   "metadata": {},
   "outputs": [],
   "source": [
    "## Initial Imports --- MOVE THESE TO THE TOP\n",
    "import datetime as dt \n",
    "import pandas as pd\n",
    "import numpy as np\n",
    "from pathlib import Path\n",
    "import seaborn as sns\n",
    "import os\n",
    "import matplotlib.pyplot as plt\n",
    "import matplotlib.mlab as mlab\n",
    "\n",
    "\n",
    "%matplotlib inline"
   ]
  },
  {
   "cell_type": "code",
   "execution_count": 53,
   "id": "fedb34d6",
   "metadata": {},
   "outputs": [],
   "source": [
    "## Description"
   ]
  },
  {
   "cell_type": "code",
   "execution_count": 54,
   "id": "80b88082",
   "metadata": {},
   "outputs": [],
   "source": [
    "#This portfolio is to run a scenario, where the investor is focusing not only in stock investment, but also on crypto investment. \n",
    "#The analysis will run different scenarios, including: portfolio of crypto only, portfolio of crypto/ASX stocks mix\n",
    "#The result will be used to compare its performance on traditional equity indices such as: ASX20, ASX200, ASX300; or index-tracking ETFs.\n",
    "\n"
   ]
  },
  {
   "cell_type": "code",
   "execution_count": 55,
   "id": "ffb24b09",
   "metadata": {},
   "outputs": [],
   "source": [
    "#Getting the Data for Crypto"
   ]
  },
  {
   "cell_type": "code",
   "execution_count": 56,
   "id": "daadc295",
   "metadata": {},
   "outputs": [
    {
     "data": {
      "text/html": [
       "<div>\n",
       "<style scoped>\n",
       "    .dataframe tbody tr th:only-of-type {\n",
       "        vertical-align: middle;\n",
       "    }\n",
       "\n",
       "    .dataframe tbody tr th {\n",
       "        vertical-align: top;\n",
       "    }\n",
       "\n",
       "    .dataframe thead th {\n",
       "        text-align: right;\n",
       "    }\n",
       "</style>\n",
       "<table border=\"1\" class=\"dataframe\">\n",
       "  <thead>\n",
       "    <tr style=\"text-align: right;\">\n",
       "      <th></th>\n",
       "      <th>BTC/USD</th>\n",
       "    </tr>\n",
       "    <tr>\n",
       "      <th>Date</th>\n",
       "      <th></th>\n",
       "    </tr>\n",
       "  </thead>\n",
       "  <tbody>\n",
       "    <tr>\n",
       "      <th>2016-01-01</th>\n",
       "      <td>0.008749</td>\n",
       "    </tr>\n",
       "    <tr>\n",
       "      <th>2016-01-02</th>\n",
       "      <td>-0.002063</td>\n",
       "    </tr>\n",
       "    <tr>\n",
       "      <th>2016-01-03</th>\n",
       "      <td>-0.007907</td>\n",
       "    </tr>\n",
       "    <tr>\n",
       "      <th>2016-01-04</th>\n",
       "      <td>0.007163</td>\n",
       "    </tr>\n",
       "    <tr>\n",
       "      <th>2016-01-05</th>\n",
       "      <td>-0.002611</td>\n",
       "    </tr>\n",
       "    <tr>\n",
       "      <th>...</th>\n",
       "      <td>...</td>\n",
       "    </tr>\n",
       "    <tr>\n",
       "      <th>2020-12-27</th>\n",
       "      <td>-0.006231</td>\n",
       "    </tr>\n",
       "    <tr>\n",
       "      <th>2020-12-28</th>\n",
       "      <td>0.030927</td>\n",
       "    </tr>\n",
       "    <tr>\n",
       "      <th>2020-12-29</th>\n",
       "      <td>0.010250</td>\n",
       "    </tr>\n",
       "    <tr>\n",
       "      <th>2020-12-30</th>\n",
       "      <td>0.054034</td>\n",
       "    </tr>\n",
       "    <tr>\n",
       "      <th>2020-12-31</th>\n",
       "      <td>0.005574</td>\n",
       "    </tr>\n",
       "  </tbody>\n",
       "</table>\n",
       "<p>1823 rows × 1 columns</p>\n",
       "</div>"
      ],
      "text/plain": [
       "             BTC/USD\n",
       "Date                \n",
       "2016-01-01  0.008749\n",
       "2016-01-02 -0.002063\n",
       "2016-01-03 -0.007907\n",
       "2016-01-04  0.007163\n",
       "2016-01-05 -0.002611\n",
       "...              ...\n",
       "2020-12-27 -0.006231\n",
       "2020-12-28  0.030927\n",
       "2020-12-29  0.010250\n",
       "2020-12-30  0.054034\n",
       "2020-12-31  0.005574\n",
       "\n",
       "[1823 rows x 1 columns]"
      ]
     },
     "execution_count": 56,
     "metadata": {},
     "output_type": "execute_result"
    }
   ],
   "source": [
    "#btc_returns_csv = Path(r\"E:\\OneDrive\\Documents\\GitHub\\MonashFintech2021Project1\\Financial Modelling\\Crypto Portfolio\\Resources\\BTC-USD.csv\")\n",
    "#BTC_daily_returns = pd.read_csv(btc_returns_csv, index_col=\"Date\", parse_dates=True, infer_datetime_format=True)\n",
    "#BTC_daily_returns.drop(columns=['Open', 'High', 'Low', 'Close', 'Volume'], axis=1,inplace=True)\n",
    "#BTC_daily_returns = BTC_daily_returns.rename(columns={\"Adj Close\":\"BTC/USD\"})\n",
    "#BTC_daily_returns = BTC_daily_returns[\"2016-01-01\":]\n",
    "\n",
    "\n",
    "\n",
    "BTC = yf.Ticker(\"BTC-USD\")\n",
    "\n",
    "# get historical market data\n",
    "df_BTC = BTC.history(start = '2016-1-1', end='2021-1-1')\n",
    "df_BTC.drop(columns=['Open', 'High', 'Low', 'Volume', 'Dividends', 'Stock Splits'],axis = 1, inplace=True)\n",
    "BTC_daily_returns = df_BTC.pct_change()\n",
    "BTC_daily_returns = BTC_daily_returns.rename(columns={\"Close\":\"BTC/USD\"})\n",
    "BTC_daily_returns = BTC_daily_returns.dropna()\n",
    "BTC_daily_returns"
   ]
  },
  {
   "cell_type": "code",
   "execution_count": 57,
   "id": "e3ab53bb",
   "metadata": {},
   "outputs": [
    {
     "data": {
      "text/html": [
       "<div>\n",
       "<style scoped>\n",
       "    .dataframe tbody tr th:only-of-type {\n",
       "        vertical-align: middle;\n",
       "    }\n",
       "\n",
       "    .dataframe tbody tr th {\n",
       "        vertical-align: top;\n",
       "    }\n",
       "\n",
       "    .dataframe thead th {\n",
       "        text-align: right;\n",
       "    }\n",
       "</style>\n",
       "<table border=\"1\" class=\"dataframe\">\n",
       "  <thead>\n",
       "    <tr style=\"text-align: right;\">\n",
       "      <th></th>\n",
       "      <th>ETH/USD</th>\n",
       "    </tr>\n",
       "    <tr>\n",
       "      <th>Date</th>\n",
       "      <th></th>\n",
       "    </tr>\n",
       "  </thead>\n",
       "  <tbody>\n",
       "    <tr>\n",
       "      <th>2016-01-01</th>\n",
       "      <td>0.015513</td>\n",
       "    </tr>\n",
       "    <tr>\n",
       "      <th>2016-01-02</th>\n",
       "      <td>-0.011498</td>\n",
       "    </tr>\n",
       "    <tr>\n",
       "      <th>2016-01-03</th>\n",
       "      <td>0.037115</td>\n",
       "    </tr>\n",
       "    <tr>\n",
       "      <th>2016-01-04</th>\n",
       "      <td>-0.017929</td>\n",
       "    </tr>\n",
       "    <tr>\n",
       "      <th>2016-01-05</th>\n",
       "      <td>-0.004509</td>\n",
       "    </tr>\n",
       "    <tr>\n",
       "      <th>...</th>\n",
       "      <td>...</td>\n",
       "    </tr>\n",
       "    <tr>\n",
       "      <th>2020-12-27</th>\n",
       "      <td>0.073614</td>\n",
       "    </tr>\n",
       "    <tr>\n",
       "      <th>2020-12-28</th>\n",
       "      <td>0.069956</td>\n",
       "    </tr>\n",
       "    <tr>\n",
       "      <th>2020-12-29</th>\n",
       "      <td>0.001537</td>\n",
       "    </tr>\n",
       "    <tr>\n",
       "      <th>2020-12-30</th>\n",
       "      <td>0.027475</td>\n",
       "    </tr>\n",
       "    <tr>\n",
       "      <th>2020-12-31</th>\n",
       "      <td>-0.018381</td>\n",
       "    </tr>\n",
       "  </tbody>\n",
       "</table>\n",
       "<p>1823 rows × 1 columns</p>\n",
       "</div>"
      ],
      "text/plain": [
       "             ETH/USD\n",
       "Date                \n",
       "2016-01-01  0.015513\n",
       "2016-01-02 -0.011498\n",
       "2016-01-03  0.037115\n",
       "2016-01-04 -0.017929\n",
       "2016-01-05 -0.004509\n",
       "...              ...\n",
       "2020-12-27  0.073614\n",
       "2020-12-28  0.069956\n",
       "2020-12-29  0.001537\n",
       "2020-12-30  0.027475\n",
       "2020-12-31 -0.018381\n",
       "\n",
       "[1823 rows x 1 columns]"
      ]
     },
     "execution_count": 57,
     "metadata": {},
     "output_type": "execute_result"
    }
   ],
   "source": [
    "#eth_returns_csv = Path(r\"E:\\OneDrive\\Documents\\GitHub\\MonashFintech2021Project1\\Financial Modelling\\Crypto Portfolio\\Resources\\ETH-USD.csv\")\n",
    "#ETH_daily_returns = pd.read_csv(eth_returns_csv, index_col=\"Date\", parse_dates=True, infer_datetime_format=True)\n",
    "#ETH_daily_returns.drop(columns=['Open', 'High', 'Low', 'Close', 'Volume'], axis=1,inplace=True)\n",
    "#ETH_daily_returns = ETH_daily_returns.rename(columns={\"Adj Close\":\"ETH/USD\"})\n",
    "#ETH_daily_returns = ETH_daily_returns[\"2016-01-01\":]\n",
    "\n",
    "\n",
    "ETH = yf.Ticker(\"ETH-USD\")\n",
    "\n",
    "# get historical market data\n",
    "df_ETH = ETH.history(start = '2016-1-1', end='2021-1-1')\n",
    "df_ETH.drop(columns=['Open', 'High', 'Low', 'Volume', 'Dividends', 'Stock Splits'],axis = 1, inplace=True)\n",
    "ETH_daily_returns = df_ETH.pct_change()\n",
    "ETH_daily_returns = ETH_daily_returns.rename(columns={\"Close\":\"ETH/USD\"})\n",
    "ETH_daily_returns = ETH_daily_returns.dropna()\n",
    "ETH_daily_returns"
   ]
  },
  {
   "cell_type": "code",
   "execution_count": 58,
   "id": "60896280",
   "metadata": {},
   "outputs": [],
   "source": [
    "## Quantitative Analysis "
   ]
  },
  {
   "cell_type": "code",
   "execution_count": 59,
   "id": "ae5b046c",
   "metadata": {},
   "outputs": [],
   "source": [
    "### Combine Data"
   ]
  },
  {
   "cell_type": "code",
   "execution_count": 60,
   "id": "0001dfe0",
   "metadata": {},
   "outputs": [
    {
     "data": {
      "text/html": [
       "<div>\n",
       "<style scoped>\n",
       "    .dataframe tbody tr th:only-of-type {\n",
       "        vertical-align: middle;\n",
       "    }\n",
       "\n",
       "    .dataframe tbody tr th {\n",
       "        vertical-align: top;\n",
       "    }\n",
       "\n",
       "    .dataframe thead th {\n",
       "        text-align: right;\n",
       "    }\n",
       "</style>\n",
       "<table border=\"1\" class=\"dataframe\">\n",
       "  <thead>\n",
       "    <tr style=\"text-align: right;\">\n",
       "      <th></th>\n",
       "      <th>BTC/USD</th>\n",
       "      <th>ETH/USD</th>\n",
       "    </tr>\n",
       "    <tr>\n",
       "      <th>Date</th>\n",
       "      <th></th>\n",
       "      <th></th>\n",
       "    </tr>\n",
       "  </thead>\n",
       "  <tbody>\n",
       "    <tr>\n",
       "      <th>2016-01-01</th>\n",
       "      <td>0.008749</td>\n",
       "      <td>0.015513</td>\n",
       "    </tr>\n",
       "    <tr>\n",
       "      <th>2016-01-02</th>\n",
       "      <td>-0.002063</td>\n",
       "      <td>-0.011498</td>\n",
       "    </tr>\n",
       "    <tr>\n",
       "      <th>2016-01-03</th>\n",
       "      <td>-0.007907</td>\n",
       "      <td>0.037115</td>\n",
       "    </tr>\n",
       "    <tr>\n",
       "      <th>2016-01-04</th>\n",
       "      <td>0.007163</td>\n",
       "      <td>-0.017929</td>\n",
       "    </tr>\n",
       "    <tr>\n",
       "      <th>2016-01-05</th>\n",
       "      <td>-0.002611</td>\n",
       "      <td>-0.004509</td>\n",
       "    </tr>\n",
       "    <tr>\n",
       "      <th>...</th>\n",
       "      <td>...</td>\n",
       "      <td>...</td>\n",
       "    </tr>\n",
       "    <tr>\n",
       "      <th>2020-12-27</th>\n",
       "      <td>-0.006231</td>\n",
       "      <td>0.073614</td>\n",
       "    </tr>\n",
       "    <tr>\n",
       "      <th>2020-12-28</th>\n",
       "      <td>0.030927</td>\n",
       "      <td>0.069956</td>\n",
       "    </tr>\n",
       "    <tr>\n",
       "      <th>2020-12-29</th>\n",
       "      <td>0.010250</td>\n",
       "      <td>0.001537</td>\n",
       "    </tr>\n",
       "    <tr>\n",
       "      <th>2020-12-30</th>\n",
       "      <td>0.054034</td>\n",
       "      <td>0.027475</td>\n",
       "    </tr>\n",
       "    <tr>\n",
       "      <th>2020-12-31</th>\n",
       "      <td>0.005574</td>\n",
       "      <td>-0.018381</td>\n",
       "    </tr>\n",
       "  </tbody>\n",
       "</table>\n",
       "<p>1823 rows × 2 columns</p>\n",
       "</div>"
      ],
      "text/plain": [
       "             BTC/USD   ETH/USD\n",
       "Date                          \n",
       "2016-01-01  0.008749  0.015513\n",
       "2016-01-02 -0.002063 -0.011498\n",
       "2016-01-03 -0.007907  0.037115\n",
       "2016-01-04  0.007163 -0.017929\n",
       "2016-01-05 -0.002611 -0.004509\n",
       "...              ...       ...\n",
       "2020-12-27 -0.006231  0.073614\n",
       "2020-12-28  0.030927  0.069956\n",
       "2020-12-29  0.010250  0.001537\n",
       "2020-12-30  0.054034  0.027475\n",
       "2020-12-31  0.005574 -0.018381\n",
       "\n",
       "[1823 rows x 2 columns]"
      ]
     },
     "execution_count": 60,
     "metadata": {},
     "output_type": "execute_result"
    }
   ],
   "source": [
    "crypto_df = pd.concat([\n",
    "    BTC_daily_returns ,\n",
    "    ETH_daily_returns ,\n",
    "     \n",
    "],axis=\"columns\",join=\"inner\")\n",
    "crypto_df\n"
   ]
  },
  {
   "cell_type": "code",
   "execution_count": 61,
   "id": "f423632e",
   "metadata": {},
   "outputs": [],
   "source": [
    "### Calculate Returns, Mean, Standard Deviation "
   ]
  },
  {
   "cell_type": "code",
   "execution_count": 62,
   "id": "ee59b392",
   "metadata": {},
   "outputs": [],
   "source": [
    "# Define function to calculate returns, volatility\n",
    "def portfolio_annualized_performance(weights, crypto_means, crypto_cov_matrix):\n",
    "    crypto_returns = np.sum(crypto_means*weights ) *252\n",
    "    crypto_std = np.sqrt(np.dot(weights.T, np.dot(crypto_cov_matrix, weights))) * np.sqrt(252)\n",
    "    return crypto_std, crypto_returns"
   ]
  },
  {
   "cell_type": "code",
   "execution_count": 63,
   "id": "cae36959",
   "metadata": {},
   "outputs": [
    {
     "data": {
      "text/html": [
       "<div>\n",
       "<style scoped>\n",
       "    .dataframe tbody tr th:only-of-type {\n",
       "        vertical-align: middle;\n",
       "    }\n",
       "\n",
       "    .dataframe tbody tr th {\n",
       "        vertical-align: top;\n",
       "    }\n",
       "\n",
       "    .dataframe thead th {\n",
       "        text-align: right;\n",
       "    }\n",
       "</style>\n",
       "<table border=\"1\" class=\"dataframe\">\n",
       "  <thead>\n",
       "    <tr style=\"text-align: right;\">\n",
       "      <th></th>\n",
       "      <th>BTC/USD</th>\n",
       "      <th>ETH/USD</th>\n",
       "    </tr>\n",
       "    <tr>\n",
       "      <th>Date</th>\n",
       "      <th></th>\n",
       "      <th></th>\n",
       "    </tr>\n",
       "  </thead>\n",
       "  <tbody>\n",
       "    <tr>\n",
       "      <th>2016-01-01</th>\n",
       "      <td>NaN</td>\n",
       "      <td>NaN</td>\n",
       "    </tr>\n",
       "    <tr>\n",
       "      <th>2016-01-02</th>\n",
       "      <td>-1.235797</td>\n",
       "      <td>-1.741160</td>\n",
       "    </tr>\n",
       "    <tr>\n",
       "      <th>2016-01-03</th>\n",
       "      <td>2.832572</td>\n",
       "      <td>-4.228042</td>\n",
       "    </tr>\n",
       "    <tr>\n",
       "      <th>2016-01-04</th>\n",
       "      <td>-1.905912</td>\n",
       "      <td>-1.483064</td>\n",
       "    </tr>\n",
       "    <tr>\n",
       "      <th>2016-01-05</th>\n",
       "      <td>-1.364598</td>\n",
       "      <td>-0.748490</td>\n",
       "    </tr>\n",
       "    <tr>\n",
       "      <th>...</th>\n",
       "      <td>...</td>\n",
       "      <td>...</td>\n",
       "    </tr>\n",
       "    <tr>\n",
       "      <th>2020-12-27</th>\n",
       "      <td>-1.086725</td>\n",
       "      <td>3.892537</td>\n",
       "    </tr>\n",
       "    <tr>\n",
       "      <th>2020-12-28</th>\n",
       "      <td>-5.962958</td>\n",
       "      <td>-0.049692</td>\n",
       "    </tr>\n",
       "    <tr>\n",
       "      <th>2020-12-29</th>\n",
       "      <td>-0.668559</td>\n",
       "      <td>-0.978026</td>\n",
       "    </tr>\n",
       "    <tr>\n",
       "      <th>2020-12-30</th>\n",
       "      <td>4.271476</td>\n",
       "      <td>16.873101</td>\n",
       "    </tr>\n",
       "    <tr>\n",
       "      <th>2020-12-31</th>\n",
       "      <td>-0.896838</td>\n",
       "      <td>-1.669000</td>\n",
       "    </tr>\n",
       "  </tbody>\n",
       "</table>\n",
       "<p>1823 rows × 2 columns</p>\n",
       "</div>"
      ],
      "text/plain": [
       "             BTC/USD    ETH/USD\n",
       "Date                           \n",
       "2016-01-01       NaN        NaN\n",
       "2016-01-02 -1.235797  -1.741160\n",
       "2016-01-03  2.832572  -4.228042\n",
       "2016-01-04 -1.905912  -1.483064\n",
       "2016-01-05 -1.364598  -0.748490\n",
       "...              ...        ...\n",
       "2020-12-27 -1.086725   3.892537\n",
       "2020-12-28 -5.962958  -0.049692\n",
       "2020-12-29 -0.668559  -0.978026\n",
       "2020-12-30  4.271476  16.873101\n",
       "2020-12-31 -0.896838  -1.669000\n",
       "\n",
       "[1823 rows x 2 columns]"
      ]
     },
     "execution_count": 63,
     "metadata": {},
     "output_type": "execute_result"
    }
   ],
   "source": [
    "#Calculate daily returns\n",
    "crypto_returns = crypto_df.pct_change()\n",
    "crypto_returns"
   ]
  },
  {
   "cell_type": "code",
   "execution_count": 64,
   "id": "653cf766",
   "metadata": {},
   "outputs": [
    {
     "data": {
      "text/plain": [
       "Text(0, 0.5, 'daily returns')"
      ]
     },
     "execution_count": 64,
     "metadata": {},
     "output_type": "execute_result"
    },
    {
     "data": {
      "image/png": "[encoded data removed]",
      "text/plain": [
       "<Figure size 2160x720 with 1 Axes>"
      ]
     },
     "metadata": {
      "needs_background": "light"
     },
     "output_type": "display_data"
    }
   ],
   "source": [
    "plt.figure(figsize=(30, 10))\n",
    "for i in crypto_returns.columns.values:\n",
    "    plt.plot(crypto_returns.index, crypto_returns[i], lw=2, alpha=0.5,label=i)\n",
    "plt.legend(loc='lower center', fontsize=14)\n",
    "plt.ylabel('daily returns')"
   ]
  },
  {
   "cell_type": "code",
   "execution_count": 65,
   "id": "87935ca4",
   "metadata": {},
   "outputs": [
    {
     "data": {
      "text/plain": [
       "BTC/USD    0.003088\n",
       "ETH/USD    0.005406\n",
       "dtype: float64"
      ]
     },
     "execution_count": 65,
     "metadata": {},
     "output_type": "execute_result"
    }
   ],
   "source": [
    "#Calculate means\n",
    "crypto_means = crypto_df.mean()\n",
    "crypto_means"
   ]
  },
  {
   "cell_type": "code",
   "execution_count": 66,
   "id": "76dd8ef7",
   "metadata": {},
   "outputs": [
    {
     "data": {
      "text/plain": [
       "BTC/USD    0.039192\n",
       "ETH/USD    0.059320\n",
       "dtype: float64"
      ]
     },
     "execution_count": 66,
     "metadata": {},
     "output_type": "execute_result"
    }
   ],
   "source": [
    "#Calculate Standard Deviation\n",
    "crypto_std = crypto_df.std()\n",
    "crypto_std"
   ]
  },
  {
   "cell_type": "code",
   "execution_count": 67,
   "id": "dff93574",
   "metadata": {},
   "outputs": [
    {
     "data": {
      "text/html": [
       "<div>\n",
       "<style scoped>\n",
       "    .dataframe tbody tr th:only-of-type {\n",
       "        vertical-align: middle;\n",
       "    }\n",
       "\n",
       "    .dataframe tbody tr th {\n",
       "        vertical-align: top;\n",
       "    }\n",
       "\n",
       "    .dataframe thead th {\n",
       "        text-align: right;\n",
       "    }\n",
       "</style>\n",
       "<table border=\"1\" class=\"dataframe\">\n",
       "  <thead>\n",
       "    <tr style=\"text-align: right;\">\n",
       "      <th></th>\n",
       "      <th>BTC/USD</th>\n",
       "      <th>ETH/USD</th>\n",
       "    </tr>\n",
       "  </thead>\n",
       "  <tbody>\n",
       "    <tr>\n",
       "      <th>BTC/USD</th>\n",
       "      <td>4922.214993</td>\n",
       "      <td>54.625297</td>\n",
       "    </tr>\n",
       "    <tr>\n",
       "      <th>ETH/USD</th>\n",
       "      <td>54.625297</td>\n",
       "      <td>5487.347739</td>\n",
       "    </tr>\n",
       "  </tbody>\n",
       "</table>\n",
       "</div>"
      ],
      "text/plain": [
       "             BTC/USD      ETH/USD\n",
       "BTC/USD  4922.214993    54.625297\n",
       "ETH/USD    54.625297  5487.347739"
      ]
     },
     "execution_count": 67,
     "metadata": {},
     "output_type": "execute_result"
    }
   ],
   "source": [
    "#Calculate Covariance Matrix\n",
    "crypto_cov_matrix = crypto_returns.cov()\n",
    "crypto_cov_matrix"
   ]
  },
  {
   "cell_type": "code",
   "execution_count": 68,
   "id": "d71da74f",
   "metadata": {},
   "outputs": [
    {
     "data": {
      "image/png": "[encoded data removed]",
      "text/plain": [
       "<Figure size 432x288 with 2 Axes>"
      ]
     },
     "metadata": {
      "needs_background": "light"
     },
     "output_type": "display_data"
    }
   ],
   "source": [
    "# Plot the correlation heatmap\n",
    "crypto_corr = crypto_returns.corr()\n",
    "ax = sns.heatmap(\n",
    "    crypto_corr, \n",
    "    vmin=-1, vmax=1, center=0,\n",
    "    cmap=sns.diverging_palette(20, 220, n=200),\n",
    "    square=True\n",
    ")\n",
    "ax.set_xticklabels(\n",
    "    ax.get_xticklabels(),\n",
    "    rotation=45,\n",
    "    horizontalalignment='right'\n",
    ");"
   ]
  },
  {
   "cell_type": "code",
   "execution_count": 69,
   "id": "2deae2d7",
   "metadata": {},
   "outputs": [],
   "source": [
    "## Applying Markowitz Portfolio Theory (MPT) with Efficient Frontier"
   ]
  },
  {
   "cell_type": "code",
   "execution_count": 70,
   "id": "43a5ce00",
   "metadata": {},
   "outputs": [],
   "source": [
    "# Number of portfolios to simulate\n",
    "num_portfolios = 10000\n",
    "# Risk free rate (used for Sharpe ratio below)\n",
    "# anchored on treasury bond rates (US 10-year Treasury Bond Yield)\n",
    "risk_free_rate = 0.0169"
   ]
  },
  {
   "cell_type": "code",
   "execution_count": 71,
   "id": "455215f6",
   "metadata": {},
   "outputs": [],
   "source": [
    "def generate_random_portfolios(num_portfolios, crypto_means, crypto_cov_matrix, risk_free_rate):\n",
    "    # Initialize array of shape 3 x N to store our results, \n",
    "    # where N is the number of portfolios we're going to simulate\n",
    "    results = np.zeros((3,num_portfolios))\n",
    "    # Array to store the weights of each equity\n",
    "    weight_array = []\n",
    "    for i in range(num_portfolios):\n",
    "        # Randomly assign floats to our n equities\n",
    "        weights = np.random.random(2)\n",
    "        # Convert the randomized floats to percentages (summing to 100)\n",
    "        weights /= np.sum(weights)\n",
    "        # Add to our portfolio weight array\n",
    "        weight_array.append(weights)\n",
    "        # Pull the standard deviation, returns from our function above using \n",
    "        # the weights, mean returns generated in this function\n",
    "        portfolio_std_dev, portfolio_return = portfolio_annualized_performance(weights, crypto_means, crypto_cov_matrix)\n",
    "        # Store output\n",
    "        results[0,i] = portfolio_std_dev\n",
    "        results[1,i] = portfolio_return\n",
    "        # Sharpe ratio\n",
    "        results[2,i] = (portfolio_return - risk_free_rate) / portfolio_std_dev\n",
    "    return results, weight_array"
   ]
  },
  {
   "cell_type": "code",
   "execution_count": 72,
   "id": "84249270",
   "metadata": {},
   "outputs": [
    {
     "name": "stdout",
     "output_type": "stream",
     "text": [
      "----------------------------------------------------------------------------------------------------\n",
      "Portfolio at maximum Sharpe Ratio\n",
      "\n",
      "--Returns, volatility--\n",
      "\n",
      "Annualized Return: 1.14\n",
      "Annualized Volatility: 845.02\n",
      "\n",
      "\n",
      "--Allocation at max Sharpe ratio--\n",
      "\n",
      "            BTC/USD  ETH/USD\n",
      "allocation    38.41    61.59\n",
      "----------------------------------------------------------------------------------------------------\n"
     ]
    },
    {
     "data": {
      "image/png": "[encoded data removed]",
      "text/plain": [
       "<Figure size 1440x720 with 2 Axes>"
      ]
     },
     "metadata": {
      "needs_background": "light"
     },
     "output_type": "display_data"
    }
   ],
   "source": [
    "def display_simulated_portfolios(crypto_means, crypto_cov_matrix, num_portfolios, risk_free_rate):\n",
    "\n",
    "    # pull results, weights from random portfolios\n",
    "    results, weights = generate_random_portfolios(num_portfolios, crypto_means, crypto_cov_matrix, risk_free_rate)\n",
    "    \n",
    "    # pull the max portfolio Sharpe ratio (3rd element in results array from \n",
    "    # generate_random_portfolios function)\n",
    "    max_sharpe_idx = np.argmax(results[2])\n",
    "\n",
    "    # pull the associated standard deviation, annualized return w/ the max Sharpe ratio\n",
    "    stdev_portfolio, returns_portfolio = results[0,max_sharpe_idx], results[1,max_sharpe_idx]\n",
    "\n",
    "    # pull the allocation associated with max Sharpe ratio\n",
    "    max_sharpe_allocation = pd.DataFrame(weights[max_sharpe_idx],index=crypto_df.columns,columns=['allocation'])\n",
    "    max_sharpe_allocation.allocation = [round(i*100,2)for i in max_sharpe_allocation.allocation]\n",
    "    max_sharpe_allocation = max_sharpe_allocation.T\n",
    "    \n",
    "    print(\"-\"*100)\n",
    "    print(\"Portfolio at maximum Sharpe Ratio\\n\")\n",
    "    print(\"--Returns, volatility--\\n\")\n",
    "    print(\"Annualized Return:\", round(returns_portfolio,2))\n",
    "    print(\"Annualized Volatility:\", round(stdev_portfolio,2))\n",
    "    \n",
    "    print(\"\\n\")\n",
    "    print(\"--Allocation at max Sharpe ratio--\\n\")\n",
    "    print(max_sharpe_allocation)\n",
    "    print(\"-\"*100)\n",
    "    \n",
    "    plt.figure(figsize=(20, 10))\n",
    "    # x = volatility, y = annualized return, color mapping = sharpe ratio\n",
    "    plt.scatter(results[0,:],results[1,:],c=results[2,:], cmap='winter', marker='o', s=10, alpha=0.3)\n",
    "    plt.colorbar()\n",
    "    # Mark the portfolio w/ max Sharpe ratio\n",
    "    plt.scatter(stdev_portfolio, returns_portfolio, marker='x',color='r',s=150, label='Max Sharpe ratio')\n",
    "    plt.title('Simulated portfolios illustrating efficient frontier')\n",
    "    plt.xlabel('annualized volatility')\n",
    "    plt.ylabel('annualized returns')\n",
    "    plt.legend(labelspacing=1.2)\n",
    "\n",
    "display_simulated_portfolios(crypto_means, crypto_cov_matrix, num_portfolios, risk_free_rate)"
   ]
  },
  {
   "cell_type": "code",
   "execution_count": 73,
   "id": "978be87d",
   "metadata": {},
   "outputs": [],
   "source": [
    "#   So what is happening to this formula? \n",
    "#   Before we dive in, we need to understand the concept of max Sharpe Ratio: \n",
    "##  The ratio is commonly used as a means of calculating the performance of an investment after \n",
    "##  adjusting for its risk that allows investments of different risk profiles to be compared against each other.\n",
    "##  Max Sharpe Ratio means that investor will choose to go with higher risk, as in this case is Bitcoin, to achieve higher return\n",
    "##  The volatility gap between Bitcoin and Ethereum is significantly difference with Bitcoin volatility level is over the cloud, \n",
    "##  therefore we can see why this model choose to go all-in in Bitcoin instead of allocating a *meaningful portion* to Ethereum\n",
    "##  \n"
   ]
  },
  {
   "cell_type": "markdown",
   "id": "f8a68158",
   "metadata": {},
   "source": [
    "# Output Graphs"
   ]
  },
  {
   "cell_type": "markdown",
   "id": "132e10ba",
   "metadata": {},
   "source": [
    "## Total Returns"
   ]
  },
  {
   "cell_type": "code",
   "execution_count": 74,
   "id": "96ef8414",
   "metadata": {},
   "outputs": [
    {
     "name": "stdout",
     "output_type": "stream",
     "text": [
      "27266.825948263606\n",
      "37708.009415542125\n",
      "12453.828352970158\n"
     ]
    },
    {
     "data": {
      "text/plain": [
       "<AxesSubplot:title={'center':'Final return after 10 years comparison'}, ylabel='Return in Dollars'>"
      ]
     },
     "execution_count": 74,
     "metadata": {},
     "output_type": "execute_result"
    },
    {
     "data": {
      "text/plain": [
       "<Figure size 432x288 with 0 Axes>"
      ]
     },
     "metadata": {},
     "output_type": "display_data"
    },
    {
     "data": {
      "image/png": "[encoded data removed]",
      "text/plain": [
       "<Figure size 432x288 with 1 Axes>"
      ]
     },
     "metadata": {
      "needs_background": "light"
     },
     "output_type": "display_data"
    }
   ],
   "source": [
    "# Based on user input\n",
    "#investment_worth.head()\n",
    "print(final_investment_worth)\n",
    "\n",
    "# Efficient Frontier\n",
    "#investment_worth_p2.head()\n",
    "print(p2_investment_worth)\n",
    "\n",
    "# Interest rate average return\n",
    "print(Mean_Principal_plus_Interest)\n",
    "\n",
    "#create dataframe for plot\n",
    "total_return_data = {'Starting_Amount':[round(investment_amount,)],\n",
    "                    'User_Weights_Portfolio':[round(final_investment_worth,)],\n",
    "                    'Efficient_Frontier_Portfolio':[round(p2_investment_worth,)],\n",
    "                    'Interest_Rate_Return':[round(Mean_Principal_plus_Interest,)],\n",
    "                    'Index_Column':['Portfolio_Return']\n",
    "                    }\n",
    "\n",
    "total_return_df = pd.DataFrame(total_return_data)\n",
    "total_return_df.set_index('Index_Column',inplace=True)\n",
    "\n",
    "#generate plot\n",
    "total_return_plot = plt.figure()\n",
    "total_return_plot = total_return_df.plot.bar(rot=0)\n",
    "total_return_plot.set_xlabel(\"\")\n",
    "total_return_plot.set_ylabel(\"Return in Dollars\", fontsize=12)\n",
    "total_return_plot.set_title(\n",
    "    \"Final return after 10 years comparison\", fontsize=14, fontweight=\"bold\"\n",
    ")\n",
    "total_return_plot.legend(loc='center left', bbox_to_anchor=(1.0, 0.5))\n",
    "for p in total_return_plot.patches:\n",
    "    total_return_plot.annotate(str(p.get_height()), (p.get_x() * 1.005, p.get_height() * 1.005))\n",
    "total_return_plot\n",
    "\n"
   ]
  },
  {
   "cell_type": "markdown",
   "id": "d47f0b62",
   "metadata": {},
   "source": [
    "## Returns over time"
   ]
  },
  {
   "cell_type": "code",
   "execution_count": 75,
   "id": "db3612a0",
   "metadata": {},
   "outputs": [
    {
     "data": {
      "text/plain": [
       "<AxesSubplot:title={'center':'Investment worth over 10 years'}, ylabel='Investment Worth'>"
      ]
     },
     "execution_count": 75,
     "metadata": {},
     "output_type": "execute_result"
    },
    {
     "data": {
      "text/plain": [
       "<Figure size 432x288 with 0 Axes>"
      ]
     },
     "metadata": {},
     "output_type": "display_data"
    },
    {
     "data": {
      "image/png": "[encoded data removed]",
      "text/plain": [
       "<Figure size 432x288 with 1 Axes>"
      ]
     },
     "metadata": {
      "needs_background": "light"
     },
     "output_type": "display_data"
    }
   ],
   "source": [
    "# Based on user input\n",
    "#investment_worth.head()\n",
    "\n",
    "# Efficient Frontier\n",
    "#investment_worth_p2.head()\n",
    "\n",
    "# Interest rate average return\n",
    "#require returns by date/ month\n",
    "\n",
    "#create dataframe for plot\n",
    "columns_total_return = ['User_Weights_Portfolio','Efficient_Frontier_Portfolio']\n",
    "\n",
    "total_return_data_period = pd.concat([investment_worth,investment_worth_p2\n",
    "                      ], axis=\"columns\", join=\"inner\")\n",
    "\n",
    "#create plot\n",
    "total_return_data_period.rename({0 : 'User_Weights_Portfolio', 1 : 'Efficient_Frontier_Portfolio'}, axis=1, inplace=True)\n",
    "total_return_period_plot = plt.figure()\n",
    "total_return_period_plot = total_return_data_period.plot.line()\n",
    "total_return_period_plot.set_xlabel(\"\")\n",
    "total_return_period_plot.set_ylabel(\"Investment Worth\", fontsize=12)\n",
    "total_return_period_plot.set_title(\n",
    "    \"Investment worth over 10 years\", fontsize=14, fontweight=\"bold\"\n",
    ")\n",
    "total_return_period_plot.legend(loc='center left', bbox_to_anchor=(1.0, 0.5))\n",
    "total_return_period_plot"
   ]
  },
  {
   "cell_type": "markdown",
   "id": "e2973d7f",
   "metadata": {},
   "source": [
    "## Weighting Comparison"
   ]
  },
  {
   "cell_type": "code",
   "execution_count": 76,
   "id": "98eacbc3",
   "metadata": {},
   "outputs": [
    {
     "data": {
      "text/plain": [
       "<AxesSubplot:title={'center':'User Weighting vs Efficient Frontier Weighting of Stocks'}, xlabel='Stocks', ylabel='% Weighting'>"
      ]
     },
     "execution_count": 76,
     "metadata": {},
     "output_type": "execute_result"
    },
    {
     "data": {
      "text/plain": [
       "<Figure size 432x288 with 0 Axes>"
      ]
     },
     "metadata": {},
     "output_type": "display_data"
    },
    {
     "data": {
      "image/png": "[encoded data removed]",
      "text/plain": [
       "<Figure size 432x288 with 1 Axes>"
      ]
     },
     "metadata": {
      "needs_background": "light"
     },
     "output_type": "display_data"
    }
   ],
   "source": [
    "\n",
    "#for loops to obtain weights from dictionary\n",
    "user_weights_list = []\n",
    "for curr in user_weights:\n",
    "    if curr != 0:\n",
    "        user_weights_list.append(curr)\n",
    "\n",
    "user_stocks = []\n",
    "for name in stock_name:\n",
    "    if len(name) != 0:\n",
    "        user_stocks.append(name)\n",
    "        \n",
    "#user_stocks\n",
    "weights_optimised_list\n",
    "\n",
    "weighting_data = {'User_Weights' : user_weights_list,\n",
    "                  'Optimised_Weights' : weights_optimised_list    \n",
    "                }\n",
    "\n",
    "weighting_df = pd.DataFrame(weighting_data, index = user_stocks)\n",
    "\n",
    "#plot\n",
    "\n",
    "weighting_plot = plt.figure()\n",
    "weighting_plot = weighting_df.plot.bar(rot=0)\n",
    "weighting_plot.set_xlabel(\"Stocks\")\n",
    "weighting_plot.set_ylabel(\"% Weighting\", fontsize=12)\n",
    "weighting_plot.set_title(\n",
    "    \"User Weighting vs Efficient Frontier Weighting of Stocks\", fontsize=14, fontweight=\"bold\"\n",
    ")\n",
    "weighting_plot.legend(loc='center left', bbox_to_anchor=(1.0, 0.5))\n",
    "for p in weighting_plot.patches:\n",
    "    weighting_plot.annotate(str(p.get_height()), (p.get_x() * 1.005, p.get_height() * 1.005))\n",
    "weighting_plot"
   ]
  },
  {
   "cell_type": "code",
   "execution_count": 142,
   "id": "609cf2f7",
   "metadata": {},
   "outputs": [],
   "source": [
    "## Interest Rate Graph"
   ]
  },
  {
   "cell_type": "code",
   "execution_count": 77,
   "id": "36e92120",
   "metadata": {},
   "outputs": [
    {
     "data": {
      "text/plain": [
       "Text(0.5, 1.0, 'RBA Interest Rates over last 10-years')"
      ]
     },
     "execution_count": 77,
     "metadata": {},
     "output_type": "execute_result"
    },
    {
     "data": {
      "image/png": "[encoded data removed]",
      "text/plain": [
       "<Figure size 432x288 with 1 Axes>"
      ]
     },
     "metadata": {
      "needs_background": "light"
     },
     "output_type": "display_data"
    }
   ],
   "source": [
    "interest_rate_plot = month_by_month_cashrate_df.plot()\n",
    "interest_rate_plot.set_ylabel(\"Interest Rate %\")\n",
    "interest_rate_plot.set_xlabel(\"Years\")\n",
    "interest_rate_plot.set_title('RBA Interest Rates over last 10-years')"
   ]
  },
  {
   "cell_type": "code",
   "execution_count": null,
   "id": "e6f9455e",
   "metadata": {},
   "outputs": [],
   "source": []
  }
 ],
 "metadata": {
  "kernelspec": {
   "display_name": "Python 3",
   "language": "python",
   "name": "python3"
  },
  "language_info": {
   "codemirror_mode": {
    "name": "ipython",
    "version": 3
   },
   "file_extension": ".py",
   "mimetype": "text/x-python",
   "name": "python",
   "nbconvert_exporter": "python",
   "pygments_lexer": "ipython3",
   "version": "3.8.5"
  }
 },
 "nbformat": 4,
 "nbformat_minor": 5
}
