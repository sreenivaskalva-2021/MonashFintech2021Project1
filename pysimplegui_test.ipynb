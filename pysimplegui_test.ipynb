{
 "cells": [
  {
   "cell_type": "code",
   "execution_count": 7,
   "id": "nervous-fleece",
   "metadata": {},
   "outputs": [],
   "source": [
    "import PySimpleGUI as sg"
   ]
  },
  {
   "cell_type": "code",
   "execution_count": 12,
   "id": "confirmed-miller",
   "metadata": {},
   "outputs": [],
   "source": [
    "stored_value = float()\n",
    "stored_value2 = float()\n",
    "counta = 0\n",
    "\n",
    "\n",
    "sg.theme('DarkAmber')   # Add a touch of color\n",
    "# All the stuff inside your window.\n",
    "layout = [  [sg.Text('Weighting of Stock 1'), sg.Slider(range=(0.00,100.00), orientation='h', size=(15,20))], #resolution = 0.1 for decimals\n",
    "            [sg.Text('Weighting of Stock 2'), sg.Slider(range=(0.00,100.00), orientation='h', size=(15,20))],\n",
    "            [sg.Text('Weighting of Stock 3'), sg.Slider(range=(0.00,100.00), orientation='h', size=(15,20))],\n",
    "            [sg.Button('Ok'), sg.Button('Cancel')] \n",
    "         ]\n",
    "\n",
    "# Create the Window\n",
    "window = sg.Window('Window Title', layout)\n",
    "# Event Loop to process \"events\" and get the \"values\" of the inputs\n",
    "while True:\n",
    "    event, values = window.read()\n",
    "\n",
    "    \n",
    "    if event == 'Ok':\n",
    "        stored_value =  float(values[0])\n",
    "        stored_value2 =  float(values[1])\n",
    "        stored_value3 =  float(values[2])       \n",
    "        if stored_value + stored_value2 + stored_value3  == 100:\n",
    "            sg.popup(f'Stock 1 weighting is {stored_value} and stock 2 weighting is {stored_value2} and stock 3 {stored_value3}. Program will now continue to run')\n",
    "            break\n",
    "        else:\n",
    "            sg.popup(f'Weighting of Stock 1 {stored_value} and 2 {stored_value2} and 3 {stored_value3} does not equal 100')\n",
    "        \n",
    "  #  if event == 'Ok' and counta == 2:\n",
    "  #      sg.popup(f'Stock 1 weighting is {stored_value}, stock 2 weighting is {stored_value2}')\n",
    "    \n",
    "    if event == sg.WIN_CLOSED or event == 'Cancel': # if user closes window or clicks cancel\n",
    "        break\n",
    "\n",
    "window.close()"
   ]
  },
  {
   "cell_type": "code",
   "execution_count": null,
   "id": "moved-morgan",
   "metadata": {},
   "outputs": [],
   "source": []
  }
 ],
 "metadata": {
  "kernelspec": {
   "display_name": "Python 3",
   "language": "python",
   "name": "python3"
  },
  "language_info": {
   "codemirror_mode": {
    "name": "ipython",
    "version": 3
   },
   "file_extension": ".py",
   "mimetype": "text/x-python",
   "name": "python",
   "nbconvert_exporter": "python",
   "pygments_lexer": "ipython3",
   "version": "3.8.5"
  }
 },
 "nbformat": 4,
 "nbformat_minor": 5
}
